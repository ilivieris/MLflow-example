{
 "cells": [
  {
   "cell_type": "markdown",
   "metadata": {},
   "source": [
    "# Import libraries"
   ]
  },
  {
   "cell_type": "code",
   "execution_count": 1,
   "metadata": {},
   "outputs": [],
   "source": [
    "import warnings\n",
    "warnings.filterwarnings( 'ignore' )"
   ]
  },
  {
   "cell_type": "code",
   "execution_count": 2,
   "metadata": {},
   "outputs": [],
   "source": [
    "# =-=-=-=-=-=-=-=-=-=-=-=-=-=-=-=-=-=-=-=-=-=-=-=-=-=-=-=-=-=\n",
    "# Basic libraries\n",
    "#\n",
    "import json\n",
    "import pandas   as pd\n",
    "import requests\n",
    "\n",
    "\n",
    "# =-=-=-=-=-=-=-=-=-=-=-=-=-=-=-=-=-=-=-=-=-=-=-=-=-=-=-=-=-=\n",
    "# User libraries\n",
    "#\n",
    "from utils.Logger   import *"
   ]
  },
  {
   "cell_type": "markdown",
   "metadata": {},
   "source": [
    "# Parameters"
   ]
  },
  {
   "cell_type": "code",
   "execution_count": 3,
   "metadata": {},
   "outputs": [],
   "source": [
    "# Other parameters\n",
    "#\n",
    "VERBOSE = True"
   ]
  },
  {
   "cell_type": "code",
   "execution_count": 4,
   "metadata": {},
   "outputs": [],
   "source": [
    "# Initiate logger\n",
    "#\n",
    "if VERBOSE:\n",
    "    logger = init_logger( log_file = 'logs.log' ) "
   ]
  },
  {
   "cell_type": "markdown",
   "metadata": {},
   "source": [
    "# Import data"
   ]
  },
  {
   "cell_type": "markdown",
   "metadata": {},
   "source": [
    "**Dataset**\n",
    "\n",
    "- Irrigation \n",
    "\n",
    "\n",
    "**Context**\n",
    "\n",
    "The scope is to predict if a region is 'irrigated' or 'drainaged' based on satellite multi-temporal data (indices)"
   ]
  },
  {
   "cell_type": "markdown",
   "metadata": {},
   "source": [
    "# Loading data"
   ]
  },
  {
   "cell_type": "code",
   "execution_count": 5,
   "metadata": {},
   "outputs": [
    {
     "name": "stderr",
     "output_type": "stream",
     "text": [
      "[INFO] Data were loaded\n",
      "[INFO] Number of instances:  82503\n",
      "[INFO] Number of features:   29\n"
     ]
    },
    {
     "data": {
      "text/html": [
       "<div>\n",
       "<style scoped>\n",
       "    .dataframe tbody tr th:only-of-type {\n",
       "        vertical-align: middle;\n",
       "    }\n",
       "\n",
       "    .dataframe tbody tr th {\n",
       "        vertical-align: top;\n",
       "    }\n",
       "\n",
       "    .dataframe thead th {\n",
       "        text-align: right;\n",
       "    }\n",
       "</style>\n",
       "<table border=\"1\" class=\"dataframe\">\n",
       "  <thead>\n",
       "    <tr style=\"text-align: right;\">\n",
       "      <th></th>\n",
       "      <th>B11_5</th>\n",
       "      <th>B12_5</th>\n",
       "      <th>B05_5</th>\n",
       "      <th>B06_5</th>\n",
       "      <th>NDVI_5</th>\n",
       "      <th>NDBI_5</th>\n",
       "      <th>LSWI2_5</th>\n",
       "      <th>B11_7</th>\n",
       "      <th>B12_7</th>\n",
       "      <th>B05_7</th>\n",
       "      <th>...</th>\n",
       "      <th>NDBI_9</th>\n",
       "      <th>LSWI2_9</th>\n",
       "      <th>B11_11</th>\n",
       "      <th>B12_11</th>\n",
       "      <th>B05_11</th>\n",
       "      <th>B06_11</th>\n",
       "      <th>NDVI_11</th>\n",
       "      <th>NDBI_11</th>\n",
       "      <th>LSWI2_11</th>\n",
       "      <th>Irrigation</th>\n",
       "    </tr>\n",
       "  </thead>\n",
       "  <tbody>\n",
       "    <tr>\n",
       "      <th>0</th>\n",
       "      <td>0.325158</td>\n",
       "      <td>0.211388</td>\n",
       "      <td>0.162878</td>\n",
       "      <td>0.199771</td>\n",
       "      <td>0.163840</td>\n",
       "      <td>-0.267323</td>\n",
       "      <td>0.014312</td>\n",
       "      <td>0.324716</td>\n",
       "      <td>0.204250</td>\n",
       "      <td>0.174650</td>\n",
       "      <td>...</td>\n",
       "      <td>-0.264708</td>\n",
       "      <td>0.041466</td>\n",
       "      <td>0.315360</td>\n",
       "      <td>0.201311</td>\n",
       "      <td>0.161962</td>\n",
       "      <td>0.191630</td>\n",
       "      <td>0.159782</td>\n",
       "      <td>-0.262815</td>\n",
       "      <td>0.039018</td>\n",
       "      <td>0</td>\n",
       "    </tr>\n",
       "    <tr>\n",
       "      <th>1</th>\n",
       "      <td>0.283810</td>\n",
       "      <td>0.185874</td>\n",
       "      <td>0.204715</td>\n",
       "      <td>0.292734</td>\n",
       "      <td>0.321123</td>\n",
       "      <td>-0.359163</td>\n",
       "      <td>0.263899</td>\n",
       "      <td>0.283403</td>\n",
       "      <td>0.185829</td>\n",
       "      <td>0.195995</td>\n",
       "      <td>...</td>\n",
       "      <td>-0.353670</td>\n",
       "      <td>0.287560</td>\n",
       "      <td>0.262824</td>\n",
       "      <td>0.169689</td>\n",
       "      <td>0.170315</td>\n",
       "      <td>0.270060</td>\n",
       "      <td>0.288574</td>\n",
       "      <td>-0.334296</td>\n",
       "      <td>0.248330</td>\n",
       "      <td>1</td>\n",
       "    </tr>\n",
       "    <tr>\n",
       "      <th>2</th>\n",
       "      <td>0.323059</td>\n",
       "      <td>0.200238</td>\n",
       "      <td>0.199566</td>\n",
       "      <td>0.288144</td>\n",
       "      <td>0.347120</td>\n",
       "      <td>-0.392760</td>\n",
       "      <td>0.259642</td>\n",
       "      <td>0.350821</td>\n",
       "      <td>0.223944</td>\n",
       "      <td>0.210791</td>\n",
       "      <td>...</td>\n",
       "      <td>-0.439905</td>\n",
       "      <td>0.268981</td>\n",
       "      <td>0.323004</td>\n",
       "      <td>0.195420</td>\n",
       "      <td>0.183496</td>\n",
       "      <td>0.256162</td>\n",
       "      <td>0.310311</td>\n",
       "      <td>-0.361256</td>\n",
       "      <td>0.211741</td>\n",
       "      <td>1</td>\n",
       "    </tr>\n",
       "  </tbody>\n",
       "</table>\n",
       "<p>3 rows × 29 columns</p>\n",
       "</div>"
      ],
      "text/plain": [
       "      B11_5     B12_5     B05_5     B06_5    NDVI_5    NDBI_5   LSWI2_5  \\\n",
       "0  0.325158  0.211388  0.162878  0.199771  0.163840 -0.267323  0.014312   \n",
       "1  0.283810  0.185874  0.204715  0.292734  0.321123 -0.359163  0.263899   \n",
       "2  0.323059  0.200238  0.199566  0.288144  0.347120 -0.392760  0.259642   \n",
       "\n",
       "      B11_7     B12_7     B05_7  ...    NDBI_9   LSWI2_9    B11_11    B12_11  \\\n",
       "0  0.324716  0.204250  0.174650  ... -0.264708  0.041466  0.315360  0.201311   \n",
       "1  0.283403  0.185829  0.195995  ... -0.353670  0.287560  0.262824  0.169689   \n",
       "2  0.350821  0.223944  0.210791  ... -0.439905  0.268981  0.323004  0.195420   \n",
       "\n",
       "     B05_11    B06_11   NDVI_11   NDBI_11  LSWI2_11  Irrigation  \n",
       "0  0.161962  0.191630  0.159782 -0.262815  0.039018           0  \n",
       "1  0.170315  0.270060  0.288574 -0.334296  0.248330           1  \n",
       "2  0.183496  0.256162  0.310311 -0.361256  0.211741           1  \n",
       "\n",
       "[3 rows x 29 columns]"
      ]
     },
     "execution_count": 5,
     "metadata": {},
     "output_type": "execute_result"
    }
   ],
   "source": [
    "df = pd.read_csv('Data/Irrigation_train.csv')\n",
    "\n",
    "if VERBOSE:\n",
    "    logger.info(f'Data were loaded')\n",
    "    logger.info(f'Number of instances:  {df.shape[0]}')\n",
    "    logger.info(f'Number of features:   {df.shape[1]}')\n",
    "\n",
    "df.head( 3 )"
   ]
  },
  {
   "cell_type": "markdown",
   "metadata": {},
   "source": [
    "## Initiate MLFlow server"
   ]
  },
  {
   "cell_type": "code",
   "execution_count": 6,
   "metadata": {},
   "outputs": [
    {
     "name": "stderr",
     "output_type": "stream",
     "text": [
      "[INFO] MLFlow server is connected\n"
     ]
    }
   ],
   "source": [
    "# Initiate mlflow server\n",
    "# Command: mlflow server --backend-store-uri sqlite:///mlflow.db --default-artifact-root ./artifacts --host 0.0.0.0 --port 5000\n",
    "# \n",
    "import mlflow\n",
    "\n",
    "mlflow.set_tracking_uri(\"http://0.0.0.0:5000/\")\n",
    "mlflow.set_experiment(\"Irrigation-Experiment\")\n",
    "\n",
    "\n",
    "if VERBOSE:\n",
    "    logger.info('MLFlow server is connected')"
   ]
  },
  {
   "cell_type": "markdown",
   "metadata": {},
   "source": [
    "# Serving a model with MLflow "
   ]
  },
  {
   "cell_type": "markdown",
   "metadata": {},
   "source": [
    "## Serve the production model from the model registry (Instructions)"
   ]
  },
  {
   "cell_type": "code",
   "execution_count": 7,
   "metadata": {},
   "outputs": [],
   "source": [
    "# # > Serving an MLflow Model from Model Registry\n",
    "# #\n",
    "# #\n",
    "# # Set environment variable for the tracking URL where the Model Registry resides\n",
    "# export MLFLOW_TRACKING_URI=http://0.0.0.0:5000\n",
    "# #\n",
    "# # Serve the production model from the model registry\n",
    "# mlflow models serve -m \"models:/Irrigation_model/Production\" --no-conda --port 1983"
   ]
  },
  {
   "cell_type": "markdown",
   "metadata": {},
   "source": [
    "## Create an instance"
   ]
  },
  {
   "cell_type": "code",
   "execution_count": 8,
   "metadata": {},
   "outputs": [],
   "source": [
    "d = {\n",
    "  \"B11_5\": 0.21,\n",
    "  \"B12_5\": 0.32,\n",
    "  \"B05_5\": 0.123,\n",
    "  \"B06_5\": 0.141,\n",
    "  \"NDVI_5\": 0.131,\n",
    "  \"NDBI_5\": 0.123,\n",
    "  \"LSWI2_5\": 0.456,\n",
    "  \"B11_7\": 0.456,\n",
    "  \"B12_7\": 0.345,\n",
    "  \"B05_7\": 0.687,\n",
    "  \"B06_7\": 0.234,\n",
    "  \"NDVI_7\": 0.012,\n",
    "  \"NDBI_7\": 0.123,\n",
    "  \"LSWI2_7\": 0.415,\n",
    "  \"B11_9\": 0.513,\n",
    "  \"B12_9\": 0.561,\n",
    "  \"B05_9\": 0.941,\n",
    "  \"B06_9\": 0.151,\n",
    "  \"NDVI_9\": 0.614,\n",
    "  \"NDBI_9\": 0.726,\n",
    "  \"LSWI2_9\": 0.724,\n",
    "  \"B11_11\": 0.161,\n",
    "  \"B12_11\": 0.614,\n",
    "  \"B05_11\": 0.613,\n",
    "  \"B06_11\": 0.417,\n",
    "  \"NDVI_11\": 0.745,\n",
    "  \"NDBI_11\": 0.978,\n",
    "  \"LSWI2_11\": 0.666\n",
    "   }\n",
    "\n",
    "# Convert to suitable form\n",
    "for x in d.keys():\n",
    "  d[x] = [ d[x] ]"
   ]
  },
  {
   "cell_type": "code",
   "execution_count": 9,
   "metadata": {},
   "outputs": [
    {
     "name": "stdout",
     "output_type": "stream",
     "text": [
      "Status:  200\n",
      "b'[1]'\n"
     ]
    }
   ],
   "source": [
    "url     = 'http://127.0.0.1:1983/invocations'\n",
    "headers = {'Content-Type': 'application/json; format=pandas-records'}\n",
    "\n",
    "try:\n",
    "    # Provide inference for custom instance\n",
    "    #\n",
    "    response = requests.post(url    = url, \n",
    "                            data    = json.dumps(d), \n",
    "                            headers = headers)\n",
    "\n",
    "    # # Provide inference for DataFrame\n",
    "    # #\n",
    "    # response = requests.post(url    = url, \n",
    "    #                         data    = pd.DataFrame.to_json( df[:5] ), \n",
    "    #                         headers = headers)    \n",
    "\n",
    "    print('Status: ', response.status_code)\n",
    "    print(response.content)\n",
    "except Exception as ex:\n",
    "    raise (ex)"
   ]
  }
 ],
 "metadata": {
  "kernelspec": {
   "display_name": "Python 3.9.13 ('mlflow')",
   "language": "python",
   "name": "python3"
  },
  "language_info": {
   "codemirror_mode": {
    "name": "ipython",
    "version": 3
   },
   "file_extension": ".py",
   "mimetype": "text/x-python",
   "name": "python",
   "nbconvert_exporter": "python",
   "pygments_lexer": "ipython3",
   "version": "3.9.13"
  },
  "toc": {
   "base_numbering": 1,
   "nav_menu": {},
   "number_sections": true,
   "sideBar": true,
   "skip_h1_title": false,
   "title_cell": "Table of Contents",
   "title_sidebar": "Contents",
   "toc_cell": false,
   "toc_position": {},
   "toc_section_display": true,
   "toc_window_display": true
  },
  "varInspector": {
   "cols": {
    "lenName": 16,
    "lenType": 16,
    "lenVar": 40
   },
   "kernels_config": {
    "python": {
     "delete_cmd_postfix": "",
     "delete_cmd_prefix": "del ",
     "library": "var_list.py",
     "varRefreshCmd": "print(var_dic_list())"
    },
    "r": {
     "delete_cmd_postfix": ") ",
     "delete_cmd_prefix": "rm(",
     "library": "var_list.r",
     "varRefreshCmd": "cat(var_dic_list()) "
    }
   },
   "types_to_exclude": [
    "module",
    "function",
    "builtin_function_or_method",
    "instance",
    "_Feature"
   ],
   "window_display": false
  },
  "vscode": {
   "interpreter": {
    "hash": "afea5bdb149cee4bb6ddbc8de92100e6e2504969dafe00b7c6b2f8f5c0fb2a33"
   }
  }
 },
 "nbformat": 4,
 "nbformat_minor": 4
}
