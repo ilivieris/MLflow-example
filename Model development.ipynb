{
 "cells": [
  {
   "cell_type": "markdown",
   "metadata": {},
   "source": [
    "# Import libraries"
   ]
  },
  {
   "cell_type": "code",
   "execution_count": 1,
   "metadata": {},
   "outputs": [],
   "source": [
    "import warnings\n",
    "warnings.filterwarnings( 'ignore' )"
   ]
  },
  {
   "cell_type": "code",
   "execution_count": 2,
   "metadata": {},
   "outputs": [],
   "source": [
    "# =-=-=-=-=-=-=-=-=-=-=-=-=-=-=-=-=-=-=-=-=-=-=-=-=-=-=-=-=-=\n",
    "# Basic libraries\n",
    "#\n",
    "import math\n",
    "import json\n",
    "import numpy    as np\n",
    "import pandas   as pd\n",
    "from   datetime import datetime\n",
    "\n",
    "# =-=-=-=-=-=-=-=-=-=-=-=-=-=-=-=-=-=-=-=-=-=-=-=-=-=-=-=-=-=\n",
    "# Sklearn\n",
    "#\n",
    "from sklearn                 import metrics\n",
    "from sklearn.model_selection import train_test_split\n",
    "from sklearn                 import preprocessing\n",
    "\n",
    "\n",
    "# =-=-=-=-=-=-=-=-=-=-=-=-=-=-=-=-=-=-=-=-=-=-=-=-=-=-=-=-=-=\n",
    "# Sklearn-Optimization\n",
    "#\n",
    "import skopt\n",
    "\n",
    "\n",
    "# =-=-=-=-=-=-=-=-=-=-=-=-=-=-=-=-=-=-=-=-=-=-=-=-=-=-=-=-=-=\n",
    "# XGBoost\n",
    "#\n",
    "import xgboost\n",
    "\n",
    "\n",
    "# =-=-=-=-=-=-=-=-=-=-=-=-=-=-=-=-=-=-=-=-=-=-=-=-=-=-=-=-=-=\n",
    "# User libraries\n",
    "#\n",
    "from utils.Logger   import *"
   ]
  },
  {
   "cell_type": "markdown",
   "metadata": {},
   "source": [
    "# Parameters"
   ]
  },
  {
   "cell_type": "code",
   "execution_count": 3,
   "metadata": {},
   "outputs": [],
   "source": [
    "# HPO parameters \n",
    "#\n",
    "n_calls         = 10\n",
    "n_random_starts = 2\n",
    "\n",
    "\n",
    "# XGBoost - parameters\n",
    "#\n",
    "n_estimators          = 10\n",
    "early_stopping_rounds = 10\n",
    "seed                  = 42\n",
    "\n",
    "\n",
    "# Other parameters\n",
    "#\n",
    "VERBOSE = True"
   ]
  },
  {
   "cell_type": "code",
   "execution_count": 4,
   "metadata": {},
   "outputs": [],
   "source": [
    "# Initiate logger\n",
    "#\n",
    "if VERBOSE:\n",
    "    logger = init_logger( log_file = 'logs.log' ) "
   ]
  },
  {
   "cell_type": "markdown",
   "metadata": {},
   "source": [
    "# Import data"
   ]
  },
  {
   "cell_type": "markdown",
   "metadata": {},
   "source": [
    "**Dataset**\n",
    "\n",
    "- Irrigation \n",
    "\n",
    "\n",
    "**Context**\n",
    "\n",
    "The score is to predict if a region is 'irrigated' or 'drainaged' based on satellite multi-temporal data (indices)"
   ]
  },
  {
   "cell_type": "markdown",
   "metadata": {},
   "source": [
    "# Loading data"
   ]
  },
  {
   "cell_type": "markdown",
   "metadata": {},
   "source": [
    "## Training data"
   ]
  },
  {
   "cell_type": "code",
   "execution_count": 5,
   "metadata": {},
   "outputs": [
    {
     "name": "stderr",
     "output_type": "stream",
     "text": [
      "[INFO] Training data were loaded\n",
      "[INFO] Number of instances:  82503\n",
      "[INFO] Number of features:   29\n"
     ]
    },
    {
     "data": {
      "text/html": [
       "<div>\n",
       "<style scoped>\n",
       "    .dataframe tbody tr th:only-of-type {\n",
       "        vertical-align: middle;\n",
       "    }\n",
       "\n",
       "    .dataframe tbody tr th {\n",
       "        vertical-align: top;\n",
       "    }\n",
       "\n",
       "    .dataframe thead th {\n",
       "        text-align: right;\n",
       "    }\n",
       "</style>\n",
       "<table border=\"1\" class=\"dataframe\">\n",
       "  <thead>\n",
       "    <tr style=\"text-align: right;\">\n",
       "      <th></th>\n",
       "      <th>B11_5</th>\n",
       "      <th>B12_5</th>\n",
       "      <th>B05_5</th>\n",
       "      <th>B06_5</th>\n",
       "      <th>NDVI_5</th>\n",
       "      <th>NDBI_5</th>\n",
       "      <th>LSWI2_5</th>\n",
       "      <th>B11_7</th>\n",
       "      <th>B12_7</th>\n",
       "      <th>B05_7</th>\n",
       "      <th>...</th>\n",
       "      <th>NDBI_9</th>\n",
       "      <th>LSWI2_9</th>\n",
       "      <th>B11_11</th>\n",
       "      <th>B12_11</th>\n",
       "      <th>B05_11</th>\n",
       "      <th>B06_11</th>\n",
       "      <th>NDVI_11</th>\n",
       "      <th>NDBI_11</th>\n",
       "      <th>LSWI2_11</th>\n",
       "      <th>Irrigation</th>\n",
       "    </tr>\n",
       "  </thead>\n",
       "  <tbody>\n",
       "    <tr>\n",
       "      <th>0</th>\n",
       "      <td>0.325158</td>\n",
       "      <td>0.211388</td>\n",
       "      <td>0.162878</td>\n",
       "      <td>0.199771</td>\n",
       "      <td>0.163840</td>\n",
       "      <td>-0.267323</td>\n",
       "      <td>0.014312</td>\n",
       "      <td>0.324716</td>\n",
       "      <td>0.204250</td>\n",
       "      <td>0.174650</td>\n",
       "      <td>...</td>\n",
       "      <td>-0.264708</td>\n",
       "      <td>0.041466</td>\n",
       "      <td>0.315360</td>\n",
       "      <td>0.201311</td>\n",
       "      <td>0.161962</td>\n",
       "      <td>0.191630</td>\n",
       "      <td>0.159782</td>\n",
       "      <td>-0.262815</td>\n",
       "      <td>0.039018</td>\n",
       "      <td>0</td>\n",
       "    </tr>\n",
       "    <tr>\n",
       "      <th>1</th>\n",
       "      <td>0.283810</td>\n",
       "      <td>0.185874</td>\n",
       "      <td>0.204715</td>\n",
       "      <td>0.292734</td>\n",
       "      <td>0.321123</td>\n",
       "      <td>-0.359163</td>\n",
       "      <td>0.263899</td>\n",
       "      <td>0.283403</td>\n",
       "      <td>0.185829</td>\n",
       "      <td>0.195995</td>\n",
       "      <td>...</td>\n",
       "      <td>-0.353670</td>\n",
       "      <td>0.287560</td>\n",
       "      <td>0.262824</td>\n",
       "      <td>0.169689</td>\n",
       "      <td>0.170315</td>\n",
       "      <td>0.270060</td>\n",
       "      <td>0.288574</td>\n",
       "      <td>-0.334296</td>\n",
       "      <td>0.248330</td>\n",
       "      <td>1</td>\n",
       "    </tr>\n",
       "    <tr>\n",
       "      <th>2</th>\n",
       "      <td>0.323059</td>\n",
       "      <td>0.200238</td>\n",
       "      <td>0.199566</td>\n",
       "      <td>0.288144</td>\n",
       "      <td>0.347120</td>\n",
       "      <td>-0.392760</td>\n",
       "      <td>0.259642</td>\n",
       "      <td>0.350821</td>\n",
       "      <td>0.223944</td>\n",
       "      <td>0.210791</td>\n",
       "      <td>...</td>\n",
       "      <td>-0.439905</td>\n",
       "      <td>0.268981</td>\n",
       "      <td>0.323004</td>\n",
       "      <td>0.195420</td>\n",
       "      <td>0.183496</td>\n",
       "      <td>0.256162</td>\n",
       "      <td>0.310311</td>\n",
       "      <td>-0.361256</td>\n",
       "      <td>0.211741</td>\n",
       "      <td>1</td>\n",
       "    </tr>\n",
       "  </tbody>\n",
       "</table>\n",
       "<p>3 rows × 29 columns</p>\n",
       "</div>"
      ],
      "text/plain": [
       "      B11_5     B12_5     B05_5     B06_5    NDVI_5    NDBI_5   LSWI2_5  \\\n",
       "0  0.325158  0.211388  0.162878  0.199771  0.163840 -0.267323  0.014312   \n",
       "1  0.283810  0.185874  0.204715  0.292734  0.321123 -0.359163  0.263899   \n",
       "2  0.323059  0.200238  0.199566  0.288144  0.347120 -0.392760  0.259642   \n",
       "\n",
       "      B11_7     B12_7     B05_7  ...    NDBI_9   LSWI2_9    B11_11    B12_11  \\\n",
       "0  0.324716  0.204250  0.174650  ... -0.264708  0.041466  0.315360  0.201311   \n",
       "1  0.283403  0.185829  0.195995  ... -0.353670  0.287560  0.262824  0.169689   \n",
       "2  0.350821  0.223944  0.210791  ... -0.439905  0.268981  0.323004  0.195420   \n",
       "\n",
       "     B05_11    B06_11   NDVI_11   NDBI_11  LSWI2_11  Irrigation  \n",
       "0  0.161962  0.191630  0.159782 -0.262815  0.039018           0  \n",
       "1  0.170315  0.270060  0.288574 -0.334296  0.248330           1  \n",
       "2  0.183496  0.256162  0.310311 -0.361256  0.211741           1  \n",
       "\n",
       "[3 rows x 29 columns]"
      ]
     },
     "execution_count": 5,
     "metadata": {},
     "output_type": "execute_result"
    }
   ],
   "source": [
    "df_train = pd.read_csv('Data/Irrigation_train.csv')\n",
    "\n",
    "logger.info(f'Training data were loaded')\n",
    "logger.info(f'Number of instances:  {df_train.shape[0]}')\n",
    "logger.info(f'Number of features:   {df_train.shape[1]}')\n",
    "\n",
    "df_train.head( 3 )"
   ]
  },
  {
   "cell_type": "markdown",
   "metadata": {},
   "source": [
    "## Testing data"
   ]
  },
  {
   "cell_type": "code",
   "execution_count": 6,
   "metadata": {},
   "outputs": [
    {
     "name": "stderr",
     "output_type": "stream",
     "text": [
      "[INFO] Testing data were loaded\n",
      "[INFO] Number of instances:  9168\n",
      "[INFO] Number of features:   29\n"
     ]
    },
    {
     "data": {
      "text/html": [
       "<div>\n",
       "<style scoped>\n",
       "    .dataframe tbody tr th:only-of-type {\n",
       "        vertical-align: middle;\n",
       "    }\n",
       "\n",
       "    .dataframe tbody tr th {\n",
       "        vertical-align: top;\n",
       "    }\n",
       "\n",
       "    .dataframe thead th {\n",
       "        text-align: right;\n",
       "    }\n",
       "</style>\n",
       "<table border=\"1\" class=\"dataframe\">\n",
       "  <thead>\n",
       "    <tr style=\"text-align: right;\">\n",
       "      <th></th>\n",
       "      <th>B11_5</th>\n",
       "      <th>B12_5</th>\n",
       "      <th>B05_5</th>\n",
       "      <th>B06_5</th>\n",
       "      <th>NDVI_5</th>\n",
       "      <th>NDBI_5</th>\n",
       "      <th>LSWI2_5</th>\n",
       "      <th>B11_7</th>\n",
       "      <th>B12_7</th>\n",
       "      <th>B05_7</th>\n",
       "      <th>...</th>\n",
       "      <th>NDBI_9</th>\n",
       "      <th>LSWI2_9</th>\n",
       "      <th>B11_11</th>\n",
       "      <th>B12_11</th>\n",
       "      <th>B05_11</th>\n",
       "      <th>B06_11</th>\n",
       "      <th>NDVI_11</th>\n",
       "      <th>NDBI_11</th>\n",
       "      <th>LSWI2_11</th>\n",
       "      <th>Irrigation</th>\n",
       "    </tr>\n",
       "  </thead>\n",
       "  <tbody>\n",
       "    <tr>\n",
       "      <th>0</th>\n",
       "      <td>0.421100</td>\n",
       "      <td>0.311280</td>\n",
       "      <td>0.310160</td>\n",
       "      <td>0.353980</td>\n",
       "      <td>0.105571</td>\n",
       "      <td>-0.175377</td>\n",
       "      <td>0.091689</td>\n",
       "      <td>0.420820</td>\n",
       "      <td>0.306320</td>\n",
       "      <td>0.310420</td>\n",
       "      <td>...</td>\n",
       "      <td>-0.193568</td>\n",
       "      <td>0.095023</td>\n",
       "      <td>0.388280</td>\n",
       "      <td>0.273980</td>\n",
       "      <td>0.285980</td>\n",
       "      <td>0.330560</td>\n",
       "      <td>0.105511</td>\n",
       "      <td>-0.177666</td>\n",
       "      <td>0.116607</td>\n",
       "      <td>0</td>\n",
       "    </tr>\n",
       "    <tr>\n",
       "      <th>1</th>\n",
       "      <td>0.423193</td>\n",
       "      <td>0.290619</td>\n",
       "      <td>0.254927</td>\n",
       "      <td>0.281671</td>\n",
       "      <td>0.137560</td>\n",
       "      <td>-0.244459</td>\n",
       "      <td>0.019792</td>\n",
       "      <td>0.431956</td>\n",
       "      <td>0.301435</td>\n",
       "      <td>0.257873</td>\n",
       "      <td>...</td>\n",
       "      <td>-0.239738</td>\n",
       "      <td>0.043115</td>\n",
       "      <td>0.379723</td>\n",
       "      <td>0.252394</td>\n",
       "      <td>0.238974</td>\n",
       "      <td>0.265378</td>\n",
       "      <td>0.135794</td>\n",
       "      <td>-0.245699</td>\n",
       "      <td>0.070134</td>\n",
       "      <td>1</td>\n",
       "    </tr>\n",
       "    <tr>\n",
       "      <th>2</th>\n",
       "      <td>0.319944</td>\n",
       "      <td>0.240518</td>\n",
       "      <td>0.192145</td>\n",
       "      <td>0.214765</td>\n",
       "      <td>0.104318</td>\n",
       "      <td>-0.246053</td>\n",
       "      <td>-0.044005</td>\n",
       "      <td>0.343052</td>\n",
       "      <td>0.246591</td>\n",
       "      <td>0.211662</td>\n",
       "      <td>...</td>\n",
       "      <td>-0.236559</td>\n",
       "      <td>0.004437</td>\n",
       "      <td>0.333574</td>\n",
       "      <td>0.236871</td>\n",
       "      <td>0.211484</td>\n",
       "      <td>0.236254</td>\n",
       "      <td>0.110759</td>\n",
       "      <td>-0.240793</td>\n",
       "      <td>0.024197</td>\n",
       "      <td>0</td>\n",
       "    </tr>\n",
       "  </tbody>\n",
       "</table>\n",
       "<p>3 rows × 29 columns</p>\n",
       "</div>"
      ],
      "text/plain": [
       "      B11_5     B12_5     B05_5     B06_5    NDVI_5    NDBI_5   LSWI2_5  \\\n",
       "0  0.421100  0.311280  0.310160  0.353980  0.105571 -0.175377  0.091689   \n",
       "1  0.423193  0.290619  0.254927  0.281671  0.137560 -0.244459  0.019792   \n",
       "2  0.319944  0.240518  0.192145  0.214765  0.104318 -0.246053 -0.044005   \n",
       "\n",
       "      B11_7     B12_7     B05_7  ...    NDBI_9   LSWI2_9    B11_11    B12_11  \\\n",
       "0  0.420820  0.306320  0.310420  ... -0.193568  0.095023  0.388280  0.273980   \n",
       "1  0.431956  0.301435  0.257873  ... -0.239738  0.043115  0.379723  0.252394   \n",
       "2  0.343052  0.246591  0.211662  ... -0.236559  0.004437  0.333574  0.236871   \n",
       "\n",
       "     B05_11    B06_11   NDVI_11   NDBI_11  LSWI2_11  Irrigation  \n",
       "0  0.285980  0.330560  0.105511 -0.177666  0.116607           0  \n",
       "1  0.238974  0.265378  0.135794 -0.245699  0.070134           1  \n",
       "2  0.211484  0.236254  0.110759 -0.240793  0.024197           0  \n",
       "\n",
       "[3 rows x 29 columns]"
      ]
     },
     "execution_count": 6,
     "metadata": {},
     "output_type": "execute_result"
    }
   ],
   "source": [
    "df_test = pd.read_csv('Data/Irrigation_test.csv')\n",
    "\n",
    "logger.info(f'Testing data were loaded')\n",
    "logger.info(f'Number of instances:  {df_test.shape[0]}')\n",
    "logger.info(f'Number of features:   {df_test.shape[1]}')\n",
    "\n",
    "df_test.head( 3 )"
   ]
  },
  {
   "cell_type": "markdown",
   "metadata": {},
   "source": [
    "## Pre-processing data"
   ]
  },
  {
   "cell_type": "code",
   "execution_count": 7,
   "metadata": {},
   "outputs": [
    {
     "name": "stderr",
     "output_type": "stream",
     "text": [
      "[INFO] Target class was transformed using Label-Encoding\n"
     ]
    }
   ],
   "source": [
    "# Setup Label-Encoder\n",
    "#\n",
    "LabelEncoding = preprocessing.LabelEncoder()\n",
    "\n",
    "# Fit encoder\n",
    "#\n",
    "LabelEncoding.fit( df_train[ 'Irrigation' ] )\n",
    "\n",
    "# Apply encoder\n",
    "df_train[ 'Irrigation' ] = LabelEncoding.transform( df_train['Irrigation' ] )\n",
    "df_test[ 'Irrigation' ]  = LabelEncoding.transform( df_test[ 'Irrigation']  )\n",
    "\n",
    "logger.info('Target class was transformed using Label-Encoding')"
   ]
  },
  {
   "cell_type": "markdown",
   "metadata": {},
   "source": [
    "# Training/Testing sets"
   ]
  },
  {
   "cell_type": "code",
   "execution_count": 8,
   "metadata": {},
   "outputs": [],
   "source": [
    "# Training/Validation data\n",
    "trainX = df_train.iloc[:, :-1]\n",
    "trainY = df_train.iloc[:,  -1]\n",
    "trainX, validX, trainY, validY = train_test_split(trainX, trainY, test_size = 0.2, random_state = seed)\n",
    "\n",
    "# # Convert dataset to special XGBoost optimised data structure\n",
    "# dtrain = xgboost.DMatrix(trainX, label = trainY)\n",
    "# dvalid = xgboost.DMatrix(validX, label = validY)\n",
    "\n",
    "\n",
    "# Testing data\n",
    "testX  = df_test.iloc[:, :-1]\n",
    "testY  = df_test.iloc[:,  -1]"
   ]
  },
  {
   "cell_type": "markdown",
   "metadata": {},
   "source": [
    "# Hyperparameter optimization"
   ]
  },
  {
   "cell_type": "code",
   "execution_count": 9,
   "metadata": {},
   "outputs": [
    {
     "name": "stderr",
     "output_type": "stream",
     "text": [
      "[WARNING] Retrying (Retry(total=4, connect=4, read=5, redirect=5, status=5)) after connection broken by 'NewConnectionError('<urllib3.connection.HTTPConnection object at 0x18b9e9040>: Failed to establish a new connection: [Errno 61] Connection refused')': /api/2.0/mlflow/experiments/get-by-name?experiment_name=Irrigation-Experiment\n",
      "[WARNING] Retrying (Retry(total=3, connect=3, read=5, redirect=5, status=5)) after connection broken by 'NewConnectionError('<urllib3.connection.HTTPConnection object at 0x18a59f970>: Failed to establish a new connection: [Errno 61] Connection refused')': /api/2.0/mlflow/experiments/get-by-name?experiment_name=Irrigation-Experiment\n",
      "[WARNING] Retrying (Retry(total=2, connect=2, read=5, redirect=5, status=5)) after connection broken by 'NewConnectionError('<urllib3.connection.HTTPConnection object at 0x18b9e06a0>: Failed to establish a new connection: [Errno 61] Connection refused')': /api/2.0/mlflow/experiments/get-by-name?experiment_name=Irrigation-Experiment\n",
      "[WARNING] Retrying (Retry(total=1, connect=1, read=5, redirect=5, status=5)) after connection broken by 'NewConnectionError('<urllib3.connection.HTTPConnection object at 0x18b9e0c40>: Failed to establish a new connection: [Errno 61] Connection refused')': /api/2.0/mlflow/experiments/get-by-name?experiment_name=Irrigation-Experiment\n",
      "2022/09/21 02:10:53 INFO mlflow.tracking.fluent: Experiment with name 'Irrigation-Experiment' does not exist. Creating a new experiment.\n",
      "[INFO] MLFlow server is connected\n"
     ]
    }
   ],
   "source": [
    "# Initiate mlflow server\n",
    "# Command: mlflow server --backend-store-uri sqlite:///mlflow.db --default-artifact-root ./artifacts --host 0.0.0.0 --port 5000\n",
    "# \n",
    "import mlflow\n",
    "from   mlflow.models.signature import infer_signature\n",
    "\n",
    "mlflow.set_tracking_uri(\"http://0.0.0.0:5000/\")\n",
    "mlflow.set_experiment(\"Irrigation-Experiment\")\n",
    "\n",
    "logger.info('MLFlow server is connected')"
   ]
  },
  {
   "cell_type": "code",
   "execution_count": 10,
   "metadata": {},
   "outputs": [],
   "source": [
    "class Parameter_Evaluation():\n",
    "    def __init__(self, trainX, trainY, validX, validY):\n",
    "        # Data\n",
    "        self.trainX = trainX\n",
    "        self.trainY = trainY\n",
    "        self.validX = validX\n",
    "        self.validY = validY\n",
    "        # Number of iterations\n",
    "        self.Iter        = 1\n",
    "        # Best score\n",
    "        self.best_score  = 0\n",
    "        \n",
    "    def select_model(self, model):\n",
    "        self.model = model\n",
    "\n",
    "        \n",
    "    def evaluate_params(self, params):\n",
    "        \n",
    "        tag     = {\"Simulation\" : \"sample-\" + str(self.Iter), \"model\": \"XGBoost\"}\n",
    "        runname = \"XGBoost-test-run-\" + str(self.Iter)\n",
    "\n",
    "        with mlflow.start_run(run_name = runname) as run:\n",
    "            # Tags to help in tracking\n",
    "            mlflow.set_tags(tag)\n",
    "\n",
    "            # Log params/hyperparameters used in experiement\n",
    "            mlflow.log_params(params)\n",
    "            \n",
    "\n",
    "            # Setup model\n",
    "            #\n",
    "            model =  self.model.set_params( **params )\n",
    "            \n",
    "            # Train model\n",
    "            #\n",
    "            model.fit(self.trainX, self.trainY, \n",
    "                    eval_metric = 'auc', \n",
    "                    eval_set = [ (self.validX, self.validY) ],\n",
    "                    early_stopping_rounds = early_stopping_rounds);\n",
    "\n",
    "        \n",
    "            # Evaluation\n",
    "            #\n",
    "            pred = model.predict( self.validX )\n",
    "            #\n",
    "            Accuracy  = 100.0 * metrics.accuracy_score( pred, self.validY )\n",
    "            try:\n",
    "                AUC   = metrics.roc_auc_score( pred, self.validY )\n",
    "            except:\n",
    "                AUC   = 0.0\n",
    "            Recall    = metrics.recall_score( pred, self.validY )\n",
    "            Precision = metrics.precision_score( pred, self.validY )        \n",
    "            \n",
    "            # Calculate Confusion Matrix (CM)\n",
    "            CM = metrics.confusion_matrix(self.validY, pred)\n",
    "            GM = math.sqrt( np.diag( CM ).prod() ) / math.sqrt( CM[0, :].sum() * CM[1, :].sum() )\n",
    "\n",
    "            \n",
    "            # Export results\n",
    "            if (AUC > self.best_score): self.best_score = AUC\n",
    "            \n",
    "            logger.info( \"Iteration {:3.0f} with Accuracy = {:6.3f}% AUC = {:6.3f} GM = {:6.3f}\".format(self.Iter, Accuracy, AUC, GM) )\n",
    "               \n",
    "            \n",
    "\n",
    "            mlflow.log_metric(\"Accuracy\",       Accuracy)\n",
    "            mlflow.log_metric(\"AUC\",            AUC)\n",
    "            mlflow.log_metric(\"Recall\",         Recall)\n",
    "            mlflow.log_metric(\"Precision\",      Precision)\n",
    "            mlflow.log_metric(\"Geometric Mean\", GM)\n",
    "            \n",
    "            signature = infer_signature(self.validX, pred)\n",
    "            \n",
    "            # Log model created\n",
    "            mlflow.sklearn.log_model(model, artifact_path = \"models\", signature = signature) \n",
    "\n",
    "        mlflow.end_run()\n",
    "          \n",
    "        # Update Iteration counter\n",
    "        self.Iter += 1\n",
    "        \n",
    "        \n",
    "        return( -AUC )"
   ]
  },
  {
   "cell_type": "code",
   "execution_count": 11,
   "metadata": {},
   "outputs": [],
   "source": [
    "evaluator = Parameter_Evaluation(trainX, trainY, validX, validY)"
   ]
  },
  {
   "cell_type": "markdown",
   "metadata": {},
   "source": [
    "# Prediction model"
   ]
  },
  {
   "cell_type": "code",
   "execution_count": 12,
   "metadata": {},
   "outputs": [
    {
     "name": "stderr",
     "output_type": "stream",
     "text": [
      "[INFO] Model was setup\n"
     ]
    },
    {
     "data": {
      "text/plain": [
       "XGBClassifier(base_score=None, booster=None, callbacks=None,\n",
       "              colsample_bylevel=None, colsample_bynode=None,\n",
       "              colsample_bytree=None, early_stopping_rounds=None,\n",
       "              enable_categorical=False, eval_metric=None, gamma=None,\n",
       "              gpu_id=None, grow_policy=None, importance_type=None,\n",
       "              interaction_constraints=None, learning_rate=None, max_bin=None,\n",
       "              max_cat_to_onehot=None, max_delta_step=None, max_depth=None,\n",
       "              max_leaves=None, min_child_weight=None, missing=nan,\n",
       "              monotone_constraints=None, n_estimators=10, n_jobs=-1,\n",
       "              num_parallel_tree=None, predictor=None, random_state=None,\n",
       "              reg_alpha=None, reg_lambda=None, ...)"
      ]
     },
     "execution_count": 12,
     "metadata": {},
     "output_type": "execute_result"
    }
   ],
   "source": [
    "# Setup model\n",
    "#\n",
    "model = xgboost.XGBClassifier(n_estimators        = n_estimators, \n",
    "                              n_jobs              = -1, \n",
    "                              objective           = 'binary:logistic', \n",
    "                              validate_parameters = True, \n",
    "                              verbosity           = 1) \n",
    "\n",
    "logger.info('Model was setup')\n",
    "model"
   ]
  },
  {
   "cell_type": "code",
   "execution_count": 13,
   "metadata": {},
   "outputs": [],
   "source": [
    "# import xgboost\n",
    "\n",
    "\n",
    "\n",
    "# # Convert dataset to special XGBoost optimised data structure\n",
    "# dtrain_matrix = xgboost.DMatrix(trainX, label = trainY)\n",
    "# # dcomp_matrix  = xgb.DMatrix(cd_enc)\n",
    "\n",
    "\n",
    "# # List of parameters\n",
    "# params = {\n",
    "#     'booster': 'gbtree',\n",
    "#     'objective': 'reg:squarederror',\n",
    "#     'learning_rate': 0.3,\n",
    "#     'n_jobs': -1,\n",
    "# }\n",
    "\n",
    "# # Fit the model\n",
    "# xgb_cv = xgboost.cv(params                = params,\n",
    "#                     dtrain                = dtrain_matrix,\n",
    "#                     num_boost_round       = num_boost_round,\n",
    "#                     nfold                 = nfold, \n",
    "#                     show_stdv             = False,\n",
    "#                     metrics               = ['auc', 'aucpr'], \n",
    "#                     as_pandas             = True,\n",
    "#                     stratified            = True,\n",
    "#                     seed                  = seed,\n",
    "#                     early_stopping_rounds = early_stopping_rounds, \n",
    "# )\n",
    "\n"
   ]
  },
  {
   "cell_type": "markdown",
   "metadata": {},
   "source": [
    "## Parameters"
   ]
  },
  {
   "cell_type": "code",
   "execution_count": 14,
   "metadata": {},
   "outputs": [],
   "source": [
    "# XGBoost\n",
    "search_space = [ \n",
    "                 skopt.space.Real(0.01, 0.1,  name='learning_rate'),\n",
    "                 skopt.space.Integer(3, 15,   name='max_depth'),\n",
    "                 #\n",
    "                 skopt.space.Real(1, 9,       name='gamma'),\n",
    "                 skopt.space.Integer(40, 180, name='reg_alpha'),\n",
    "                 skopt.space.Real(0, 1,       name='reg_lambda'),\n",
    "                 #\n",
    "                 skopt.space.Integer(2, 10,   name='min_child_weight'),\n",
    "                 skopt.space.Integer(2, 5,    name='max_leaves'),\n",
    "                 #\n",
    "                 skopt.space.Categorical(categories = ['gbtree', 'dart'], name = \"booster\")\n",
    "]"
   ]
  },
  {
   "cell_type": "code",
   "execution_count": 15,
   "metadata": {},
   "outputs": [],
   "source": [
    "HPO_params = {\n",
    "              'n_calls':         n_calls,\n",
    "              'n_random_starts': n_random_starts,\n",
    "              'base_estimator':  'ET',\n",
    "              'acq_func':        'EI',\n",
    "             }"
   ]
  },
  {
   "cell_type": "markdown",
   "metadata": {},
   "source": [
    "## Hyperparameter optimization process"
   ]
  },
  {
   "cell_type": "code",
   "execution_count": 16,
   "metadata": {},
   "outputs": [],
   "source": [
    "evaluator.select_model( model )"
   ]
  },
  {
   "cell_type": "code",
   "execution_count": 17,
   "metadata": {},
   "outputs": [],
   "source": [
    "@skopt.utils.use_named_args( search_space )\n",
    "def objective( **params ):\n",
    "    return  evaluator.evaluate_params( params )"
   ]
  },
  {
   "cell_type": "code",
   "execution_count": 18,
   "metadata": {
    "scrolled": true
   },
   "outputs": [
    {
     "name": "stdout",
     "output_type": "stream",
     "text": [
      "[0]\tvalidation_0-auc:0.70497\n",
      "[1]\tvalidation_0-auc:0.70797\n",
      "[2]\tvalidation_0-auc:0.71720\n",
      "[3]\tvalidation_0-auc:0.72041\n",
      "[4]\tvalidation_0-auc:0.72707\n",
      "[5]\tvalidation_0-auc:0.73654\n",
      "[6]\tvalidation_0-auc:0.73951\n",
      "[7]\tvalidation_0-auc:0.74619\n",
      "[8]\tvalidation_0-auc:0.74816\n",
      "[9]\tvalidation_0-auc:0.74942\n"
     ]
    },
    {
     "name": "stderr",
     "output_type": "stream",
     "text": [
      "[INFO] Iteration   1 with Accuracy = 76.117%% AUC =  0.763 GM =  0.529\n"
     ]
    },
    {
     "name": "stdout",
     "output_type": "stream",
     "text": [
      "[0]\tvalidation_0-auc:0.68881\n",
      "[1]\tvalidation_0-auc:0.69394\n",
      "[2]\tvalidation_0-auc:0.70241\n",
      "[3]\tvalidation_0-auc:0.70606\n",
      "[4]\tvalidation_0-auc:0.71273\n",
      "[5]\tvalidation_0-auc:0.71773\n",
      "[6]\tvalidation_0-auc:0.72036\n",
      "[7]\tvalidation_0-auc:0.72080\n",
      "[8]\tvalidation_0-auc:0.72318\n",
      "[9]\tvalidation_0-auc:0.73020\n"
     ]
    },
    {
     "name": "stderr",
     "output_type": "stream",
     "text": [
      "[INFO] Iteration   2 with Accuracy = 75.256%% AUC =  0.751 GM =  0.499\n"
     ]
    },
    {
     "name": "stdout",
     "output_type": "stream",
     "text": [
      "[0]\tvalidation_0-auc:0.73792\n",
      "[1]\tvalidation_0-auc:0.74479\n",
      "[2]\tvalidation_0-auc:0.74971\n",
      "[3]\tvalidation_0-auc:0.75563\n",
      "[4]\tvalidation_0-auc:0.75660\n",
      "[5]\tvalidation_0-auc:0.76463\n",
      "[6]\tvalidation_0-auc:0.76522\n",
      "[7]\tvalidation_0-auc:0.76656\n",
      "[8]\tvalidation_0-auc:0.76919\n",
      "[9]\tvalidation_0-auc:0.77058\n"
     ]
    },
    {
     "name": "stderr",
     "output_type": "stream",
     "text": [
      "[INFO] Iteration   3 with Accuracy = 76.868%% AUC =  0.771 GM =  0.554\n"
     ]
    },
    {
     "name": "stdout",
     "output_type": "stream",
     "text": [
      "[0]\tvalidation_0-auc:0.70383\n",
      "[1]\tvalidation_0-auc:0.70481\n",
      "[2]\tvalidation_0-auc:0.70899\n",
      "[3]\tvalidation_0-auc:0.71086\n",
      "[4]\tvalidation_0-auc:0.71119\n",
      "[5]\tvalidation_0-auc:0.71292\n",
      "[6]\tvalidation_0-auc:0.71592\n",
      "[7]\tvalidation_0-auc:0.71657\n",
      "[8]\tvalidation_0-auc:0.71708\n",
      "[9]\tvalidation_0-auc:0.71826\n"
     ]
    },
    {
     "name": "stderr",
     "output_type": "stream",
     "text": [
      "[INFO] Iteration   4 with Accuracy = 75.874%% AUC =  0.743 GM =  0.545\n"
     ]
    },
    {
     "name": "stdout",
     "output_type": "stream",
     "text": [
      "[0]\tvalidation_0-auc:0.70546\n",
      "[1]\tvalidation_0-auc:0.70841\n",
      "[2]\tvalidation_0-auc:0.70923\n",
      "[3]\tvalidation_0-auc:0.71091\n",
      "[4]\tvalidation_0-auc:0.71144\n",
      "[5]\tvalidation_0-auc:0.71317\n",
      "[6]\tvalidation_0-auc:0.71335\n",
      "[7]\tvalidation_0-auc:0.71449\n",
      "[8]\tvalidation_0-auc:0.71452\n",
      "[9]\tvalidation_0-auc:0.71534\n"
     ]
    },
    {
     "name": "stderr",
     "output_type": "stream",
     "text": [
      "[INFO] Iteration   5 with Accuracy = 75.789%% AUC =  0.728 GM =  0.573\n"
     ]
    },
    {
     "name": "stdout",
     "output_type": "stream",
     "text": [
      "[0]\tvalidation_0-auc:0.69332\n",
      "[1]\tvalidation_0-auc:0.69372\n",
      "[2]\tvalidation_0-auc:0.69692\n",
      "[3]\tvalidation_0-auc:0.70155\n",
      "[4]\tvalidation_0-auc:0.70489\n",
      "[5]\tvalidation_0-auc:0.70612\n",
      "[6]\tvalidation_0-auc:0.70757\n",
      "[7]\tvalidation_0-auc:0.70855\n",
      "[8]\tvalidation_0-auc:0.70980\n",
      "[9]\tvalidation_0-auc:0.71016\n"
     ]
    },
    {
     "name": "stderr",
     "output_type": "stream",
     "text": [
      "[INFO] Iteration   6 with Accuracy = 74.577%% AUC =  0.715 GM =  0.523\n"
     ]
    },
    {
     "name": "stdout",
     "output_type": "stream",
     "text": [
      "[0]\tvalidation_0-auc:0.69559\n",
      "[1]\tvalidation_0-auc:0.70346\n",
      "[2]\tvalidation_0-auc:0.70508\n",
      "[3]\tvalidation_0-auc:0.71487\n",
      "[4]\tvalidation_0-auc:0.72016\n",
      "[5]\tvalidation_0-auc:0.72135\n",
      "[6]\tvalidation_0-auc:0.72461\n",
      "[7]\tvalidation_0-auc:0.72645\n",
      "[8]\tvalidation_0-auc:0.73308\n",
      "[9]\tvalidation_0-auc:0.73721\n"
     ]
    },
    {
     "name": "stderr",
     "output_type": "stream",
     "text": [
      "[INFO] Iteration   7 with Accuracy = 75.141%% AUC =  0.753 GM =  0.492\n"
     ]
    },
    {
     "name": "stdout",
     "output_type": "stream",
     "text": [
      "[0]\tvalidation_0-auc:0.70609\n",
      "[1]\tvalidation_0-auc:0.71013\n",
      "[2]\tvalidation_0-auc:0.71367\n",
      "[3]\tvalidation_0-auc:0.71526\n",
      "[4]\tvalidation_0-auc:0.72187\n",
      "[5]\tvalidation_0-auc:0.72586\n",
      "[6]\tvalidation_0-auc:0.73152\n",
      "[7]\tvalidation_0-auc:0.73417\n",
      "[8]\tvalidation_0-auc:0.74000\n",
      "[9]\tvalidation_0-auc:0.74078\n"
     ]
    },
    {
     "name": "stderr",
     "output_type": "stream",
     "text": [
      "[INFO] Iteration   8 with Accuracy = 75.941%% AUC =  0.764 GM =  0.519\n"
     ]
    },
    {
     "name": "stdout",
     "output_type": "stream",
     "text": [
      "[0]\tvalidation_0-auc:0.74420\n",
      "[1]\tvalidation_0-auc:0.74915\n",
      "[2]\tvalidation_0-auc:0.75385\n",
      "[3]\tvalidation_0-auc:0.76163\n",
      "[4]\tvalidation_0-auc:0.76240\n",
      "[5]\tvalidation_0-auc:0.76485\n",
      "[6]\tvalidation_0-auc:0.76493\n",
      "[7]\tvalidation_0-auc:0.77232\n",
      "[8]\tvalidation_0-auc:0.77445\n",
      "[9]\tvalidation_0-auc:0.77563\n"
     ]
    },
    {
     "name": "stderr",
     "output_type": "stream",
     "text": [
      "[INFO] Iteration   9 with Accuracy = 78.032%% AUC =  0.781 GM =  0.594\n"
     ]
    },
    {
     "name": "stdout",
     "output_type": "stream",
     "text": [
      "[0]\tvalidation_0-auc:0.71535\n",
      "[1]\tvalidation_0-auc:0.72958\n",
      "[2]\tvalidation_0-auc:0.73003\n",
      "[3]\tvalidation_0-auc:0.73104\n",
      "[4]\tvalidation_0-auc:0.73575\n",
      "[5]\tvalidation_0-auc:0.73761\n",
      "[6]\tvalidation_0-auc:0.74603\n",
      "[7]\tvalidation_0-auc:0.74789\n",
      "[8]\tvalidation_0-auc:0.75055\n",
      "[9]\tvalidation_0-auc:0.75440\n"
     ]
    },
    {
     "name": "stderr",
     "output_type": "stream",
     "text": [
      "[INFO] Iteration  10 with Accuracy = 76.983%% AUC =  0.767 GM =  0.565\n"
     ]
    },
    {
     "name": "stdout",
     "output_type": "stream",
     "text": [
      "CPU times: user 2min 10s, sys: 5.48 s, total: 2min 16s\n",
      "Wall time: 42.2 s\n"
     ]
    }
   ],
   "source": [
    "%%time\n",
    "results = skopt.forest_minimize(objective, search_space, **HPO_params)"
   ]
  },
  {
   "cell_type": "markdown",
   "metadata": {},
   "source": [
    "## Get optimized hyperparameters"
   ]
  },
  {
   "cell_type": "code",
   "execution_count": 19,
   "metadata": {},
   "outputs": [],
   "source": [
    "def to_named_params(results, search_space):\n",
    "    params       = results.x\n",
    "    param_dict   = {}\n",
    "    \n",
    "    params_list  =[(dimension.name, param) for dimension, param in zip(search_space, params)]\n",
    "    \n",
    "    for item in params_list:\n",
    "        param_dict[item[0]] = item[1]\n",
    "    \n",
    "    return( param_dict )"
   ]
  },
  {
   "cell_type": "code",
   "execution_count": 20,
   "metadata": {},
   "outputs": [
    {
     "name": "stdout",
     "output_type": "stream",
     "text": [
      "[INFO] Optimized hyperparameters\n",
      "\n",
      " >            learning_rate: 0.056\n",
      " >                max_depth: 10\n",
      " >                    gamma: 2.793\n",
      " >                reg_alpha: 51\n",
      " >               reg_lambda: 0.549\n",
      " >         min_child_weight: 2\n",
      " >                  booster: dart\n"
     ]
    }
   ],
   "source": [
    "best_params = to_named_params(results, search_space)\n",
    "\n",
    "\n",
    "print('[INFO] Optimized hyperparameters\\n')\n",
    "for (parameter,value) in best_params.items():\n",
    "    if ( isinstance(value, float) ):\n",
    "        print(' >%25s: %.3f' % (parameter,value))\n",
    "    else:\n",
    "        print(' >%25s: %s' % (parameter,value))"
   ]
  },
  {
   "cell_type": "markdown",
   "metadata": {},
   "source": [
    "# Optimized (best) model setup"
   ]
  },
  {
   "cell_type": "code",
   "execution_count": 21,
   "metadata": {},
   "outputs": [
    {
     "name": "stderr",
     "output_type": "stream",
     "text": [
      "[INFO] Optimized-Model was loaded\n"
     ]
    },
    {
     "name": "stdout",
     "output_type": "stream",
     "text": [
      "[0]\tvalidation_0-auc:0.74420\n",
      "[1]\tvalidation_0-auc:0.74915\n",
      "[2]\tvalidation_0-auc:0.75385\n",
      "[3]\tvalidation_0-auc:0.76163\n",
      "[4]\tvalidation_0-auc:0.76240\n",
      "[5]\tvalidation_0-auc:0.76485\n",
      "[6]\tvalidation_0-auc:0.76493\n",
      "[7]\tvalidation_0-auc:0.77232\n",
      "[8]\tvalidation_0-auc:0.77445\n",
      "[9]\tvalidation_0-auc:0.77563\n"
     ]
    },
    {
     "name": "stderr",
     "output_type": "stream",
     "text": [
      "[INFO] Optimized-Model trained\n"
     ]
    }
   ],
   "source": [
    "# Define model\n",
    "#\n",
    "model.set_params( **best_params )\n",
    "logger.info('Optimized-Model was loaded')\n",
    "\n",
    "# Train model\n",
    "#\n",
    "model.fit(trainX, trainY,\n",
    "          eval_metric = 'auc',           \n",
    "          eval_set = [ (validX, validY) ],\n",
    "          early_stopping_rounds = 10);\n",
    "\n",
    "logger.info('Optimized-Model trained')"
   ]
  },
  {
   "cell_type": "code",
   "execution_count": 23,
   "metadata": {},
   "outputs": [
    {
     "name": "stderr",
     "output_type": "stream",
     "text": [
      "[INFO] ------------------------------\n",
      "[INFO] *** Evaluation ***\n",
      "[INFO] > Accuracy:  0.78%\n",
      "[INFO] > AUC:       0.775\n",
      "[INFO] > Recall:    0.954\n",
      "[INFO] > Precision: 0.780\n",
      "[INFO] > GM:        0.587\n",
      "\n"
     ]
    },
    {
     "data": {
      "text/plain": [
       "array([[ 980, 1736],\n",
       "       [ 294, 6158]])"
      ]
     },
     "execution_count": 23,
     "metadata": {},
     "output_type": "execute_result"
    }
   ],
   "source": [
    "# Get predictions\n",
    "#\n",
    "pred = model.predict( testX )\n",
    "\n",
    "# Calculate Confusion Matrix (CM)\n",
    "#\n",
    "CM  = metrics.confusion_matrix(testY, pred)\n",
    "#\n",
    "#\n",
    "logger.info( 30*\"-\" )\n",
    "logger.info( \"*** Evaluation ***\")\n",
    "logger.info( \"> Accuracy:  %.2f%%\" % metrics.accuracy_score( pred, testY ) )\n",
    "logger.info( \"> AUC:       %.3f\"   % metrics.roc_auc_score(pred, testY) )\n",
    "logger.info( \"> Recall:    %.3f\"   % metrics.recall_score(testY, pred) )\n",
    "logger.info( \"> Precision: %.3f\"   % metrics.precision_score(testY, pred) )\n",
    "logger.info( \"> GM:        %.3f\\n\" % (math.sqrt( np.diag( CM ).prod() ) / math.sqrt( CM[0, :].sum() * CM[1, :].sum() )) )\n",
    "\n",
    "\n",
    "CM"
   ]
  },
  {
   "cell_type": "code",
   "execution_count": 24,
   "metadata": {},
   "outputs": [],
   "source": [
    "# ModelID = '0a7e804a25b74a18b560817b8d871e48'\n",
    "# logged_model = 'runs:/{}/models'.format( ModelID )\n",
    "# loaded_model = mlflow.pyfunc.load_model(logged_model)\n",
    "\n",
    "# # Get predictions\n",
    "# #\n",
    "# pred = loaded_model.predict( testX )\n",
    "\n",
    "# # Calculate Confusion Matrix (CM)\n",
    "# #\n",
    "# CM  = metrics.confusion_matrix(testY, pred)\n",
    "# #\n",
    "# #\n",
    "# logger.info( 30*\"-\" )\n",
    "# logger.info( \"*** Evaluation ***\")\n",
    "# logger.info( \"> Accuracy:  %.2f%%\" % metrics.accuracy_score( pred, testY ) )\n",
    "# logger.info( \"> AUC:       %.3f\"   % metrics.roc_auc_score(pred, testY) )\n",
    "# logger.info( \"> Recall:    %.3f\"   % metrics.recall_score(testY, pred) )\n",
    "# logger.info( \"> Precision: %.3f\"   % metrics.precision_score(testY, pred) )\n",
    "# logger.info( \"> GM:        %.3f\\n\" % (math.sqrt( np.diag( CM ).prod() ) / math.sqrt( CM[0, :].sum() * CM[1, :].sum() )) )\n",
    "\n",
    "\n",
    "# CM"
   ]
  },
  {
   "cell_type": "code",
   "execution_count": null,
   "metadata": {},
   "outputs": [],
   "source": []
  }
 ],
 "metadata": {
  "kernelspec": {
   "display_name": "Python 3.9.13 ('mlflow')",
   "language": "python",
   "name": "python3"
  },
  "language_info": {
   "codemirror_mode": {
    "name": "ipython",
    "version": 3
   },
   "file_extension": ".py",
   "mimetype": "text/x-python",
   "name": "python",
   "nbconvert_exporter": "python",
   "pygments_lexer": "ipython3",
   "version": "3.9.13"
  },
  "toc": {
   "base_numbering": 1,
   "nav_menu": {},
   "number_sections": true,
   "sideBar": true,
   "skip_h1_title": false,
   "title_cell": "Table of Contents",
   "title_sidebar": "Contents",
   "toc_cell": false,
   "toc_position": {},
   "toc_section_display": true,
   "toc_window_display": true
  },
  "varInspector": {
   "cols": {
    "lenName": 16,
    "lenType": 16,
    "lenVar": 40
   },
   "kernels_config": {
    "python": {
     "delete_cmd_postfix": "",
     "delete_cmd_prefix": "del ",
     "library": "var_list.py",
     "varRefreshCmd": "print(var_dic_list())"
    },
    "r": {
     "delete_cmd_postfix": ") ",
     "delete_cmd_prefix": "rm(",
     "library": "var_list.r",
     "varRefreshCmd": "cat(var_dic_list()) "
    }
   },
   "types_to_exclude": [
    "module",
    "function",
    "builtin_function_or_method",
    "instance",
    "_Feature"
   ],
   "window_display": false
  },
  "vscode": {
   "interpreter": {
    "hash": "afea5bdb149cee4bb6ddbc8de92100e6e2504969dafe00b7c6b2f8f5c0fb2a33"
   }
  }
 },
 "nbformat": 4,
 "nbformat_minor": 4
}
