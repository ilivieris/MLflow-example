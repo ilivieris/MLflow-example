{
 "cells": [
  {
   "cell_type": "markdown",
   "metadata": {},
   "source": [
    "# Import libraries"
   ]
  },
  {
   "cell_type": "code",
   "execution_count": 25,
   "metadata": {},
   "outputs": [],
   "source": [
    "import warnings\n",
    "warnings.filterwarnings( 'ignore' )"
   ]
  },
  {
   "cell_type": "code",
   "execution_count": 26,
   "metadata": {},
   "outputs": [],
   "source": [
    "# =-=-=-=-=-=-=-=-=-=-=-=-=-=-=-=-=-=-=-=-=-=-=-=-=-=-=-=-=-=\n",
    "# Basic libraries\n",
    "#\n",
    "import math\n",
    "import json\n",
    "import pickle\n",
    "import numpy    as np\n",
    "import pandas   as pd\n",
    "from   datetime import datetime\n",
    "\n",
    "# =-=-=-=-=-=-=-=-=-=-=-=-=-=-=-=-=-=-=-=-=-=-=-=-=-=-=-=-=-=\n",
    "# Sklearn\n",
    "#\n",
    "from sklearn                 import metrics\n",
    "from sklearn.model_selection import train_test_split\n",
    "from sklearn                 import preprocessing\n",
    "\n",
    "\n",
    "# =-=-=-=-=-=-=-=-=-=-=-=-=-=-=-=-=-=-=-=-=-=-=-=-=-=-=-=-=-=\n",
    "# Sklearn-Optimization\n",
    "#\n",
    "import skopt\n",
    "\n",
    "\n",
    "# =-=-=-=-=-=-=-=-=-=-=-=-=-=-=-=-=-=-=-=-=-=-=-=-=-=-=-=-=-=\n",
    "# XGBoost\n",
    "#\n",
    "import xgboost\n",
    "\n",
    "\n",
    "# =-=-=-=-=-=-=-=-=-=-=-=-=-=-=-=-=-=-=-=-=-=-=-=-=-=-=-=-=-=\n",
    "# User libraries\n",
    "#\n",
    "from utils.Logger   import *"
   ]
  },
  {
   "cell_type": "markdown",
   "metadata": {},
   "source": [
    "# Parameters"
   ]
  },
  {
   "cell_type": "code",
   "execution_count": 27,
   "metadata": {},
   "outputs": [],
   "source": [
    "# HPO parameters \n",
    "#\n",
    "n_calls         = 100\n",
    "n_random_starts =  10\n",
    "\n",
    "\n",
    "# XGBoost - parameters\n",
    "#\n",
    "n_estimators          = 1000\n",
    "early_stopping_rounds = 50\n",
    "seed                  = 42\n",
    "\n",
    "\n",
    "# Other parameters\n",
    "#\n",
    "VERBOSE = True"
   ]
  },
  {
   "cell_type": "code",
   "execution_count": 28,
   "metadata": {},
   "outputs": [],
   "source": [
    "# Initiate logger\n",
    "#\n",
    "if VERBOSE:\n",
    "    logger = init_logger( log_file = 'logs.log' ) "
   ]
  },
  {
   "cell_type": "markdown",
   "metadata": {},
   "source": [
    "# Import data"
   ]
  },
  {
   "cell_type": "markdown",
   "metadata": {},
   "source": [
    "**Dataset**\n",
    "\n",
    "- Irrigation \n",
    "\n",
    "\n",
    "**Context**\n",
    "\n",
    "The score is to predict if a region is 'irrigated' or 'drainaged' based on satellite multi-temporal data (indices)"
   ]
  },
  {
   "cell_type": "markdown",
   "metadata": {},
   "source": [
    "# Loading data"
   ]
  },
  {
   "cell_type": "markdown",
   "metadata": {},
   "source": [
    "## Training data"
   ]
  },
  {
   "cell_type": "code",
   "execution_count": 29,
   "metadata": {},
   "outputs": [
    {
     "name": "stderr",
     "output_type": "stream",
     "text": [
      "[INFO] Training data were loaded\n",
      "[INFO] Training data were loaded\n",
      "[INFO] Number of instances:  82503\n",
      "[INFO] Number of instances:  82503\n",
      "[INFO] Number of features:   29\n",
      "[INFO] Number of features:   29\n"
     ]
    },
    {
     "data": {
      "text/html": [
       "<div>\n",
       "<style scoped>\n",
       "    .dataframe tbody tr th:only-of-type {\n",
       "        vertical-align: middle;\n",
       "    }\n",
       "\n",
       "    .dataframe tbody tr th {\n",
       "        vertical-align: top;\n",
       "    }\n",
       "\n",
       "    .dataframe thead th {\n",
       "        text-align: right;\n",
       "    }\n",
       "</style>\n",
       "<table border=\"1\" class=\"dataframe\">\n",
       "  <thead>\n",
       "    <tr style=\"text-align: right;\">\n",
       "      <th></th>\n",
       "      <th>B11_5</th>\n",
       "      <th>B12_5</th>\n",
       "      <th>B05_5</th>\n",
       "      <th>B06_5</th>\n",
       "      <th>NDVI_5</th>\n",
       "      <th>NDBI_5</th>\n",
       "      <th>LSWI2_5</th>\n",
       "      <th>B11_7</th>\n",
       "      <th>B12_7</th>\n",
       "      <th>B05_7</th>\n",
       "      <th>...</th>\n",
       "      <th>NDBI_9</th>\n",
       "      <th>LSWI2_9</th>\n",
       "      <th>B11_11</th>\n",
       "      <th>B12_11</th>\n",
       "      <th>B05_11</th>\n",
       "      <th>B06_11</th>\n",
       "      <th>NDVI_11</th>\n",
       "      <th>NDBI_11</th>\n",
       "      <th>LSWI2_11</th>\n",
       "      <th>Irrigation</th>\n",
       "    </tr>\n",
       "  </thead>\n",
       "  <tbody>\n",
       "    <tr>\n",
       "      <th>0</th>\n",
       "      <td>0.325158</td>\n",
       "      <td>0.211388</td>\n",
       "      <td>0.162878</td>\n",
       "      <td>0.199771</td>\n",
       "      <td>0.163840</td>\n",
       "      <td>-0.267323</td>\n",
       "      <td>0.014312</td>\n",
       "      <td>0.324716</td>\n",
       "      <td>0.204250</td>\n",
       "      <td>0.174650</td>\n",
       "      <td>...</td>\n",
       "      <td>-0.264708</td>\n",
       "      <td>0.041466</td>\n",
       "      <td>0.315360</td>\n",
       "      <td>0.201311</td>\n",
       "      <td>0.161962</td>\n",
       "      <td>0.191630</td>\n",
       "      <td>0.159782</td>\n",
       "      <td>-0.262815</td>\n",
       "      <td>0.039018</td>\n",
       "      <td>0</td>\n",
       "    </tr>\n",
       "    <tr>\n",
       "      <th>1</th>\n",
       "      <td>0.283810</td>\n",
       "      <td>0.185874</td>\n",
       "      <td>0.204715</td>\n",
       "      <td>0.292734</td>\n",
       "      <td>0.321123</td>\n",
       "      <td>-0.359163</td>\n",
       "      <td>0.263899</td>\n",
       "      <td>0.283403</td>\n",
       "      <td>0.185829</td>\n",
       "      <td>0.195995</td>\n",
       "      <td>...</td>\n",
       "      <td>-0.353670</td>\n",
       "      <td>0.287560</td>\n",
       "      <td>0.262824</td>\n",
       "      <td>0.169689</td>\n",
       "      <td>0.170315</td>\n",
       "      <td>0.270060</td>\n",
       "      <td>0.288574</td>\n",
       "      <td>-0.334296</td>\n",
       "      <td>0.248330</td>\n",
       "      <td>1</td>\n",
       "    </tr>\n",
       "    <tr>\n",
       "      <th>2</th>\n",
       "      <td>0.323059</td>\n",
       "      <td>0.200238</td>\n",
       "      <td>0.199566</td>\n",
       "      <td>0.288144</td>\n",
       "      <td>0.347120</td>\n",
       "      <td>-0.392760</td>\n",
       "      <td>0.259642</td>\n",
       "      <td>0.350821</td>\n",
       "      <td>0.223944</td>\n",
       "      <td>0.210791</td>\n",
       "      <td>...</td>\n",
       "      <td>-0.439905</td>\n",
       "      <td>0.268981</td>\n",
       "      <td>0.323004</td>\n",
       "      <td>0.195420</td>\n",
       "      <td>0.183496</td>\n",
       "      <td>0.256162</td>\n",
       "      <td>0.310311</td>\n",
       "      <td>-0.361256</td>\n",
       "      <td>0.211741</td>\n",
       "      <td>1</td>\n",
       "    </tr>\n",
       "  </tbody>\n",
       "</table>\n",
       "<p>3 rows × 29 columns</p>\n",
       "</div>"
      ],
      "text/plain": [
       "      B11_5     B12_5     B05_5     B06_5    NDVI_5    NDBI_5   LSWI2_5  \\\n",
       "0  0.325158  0.211388  0.162878  0.199771  0.163840 -0.267323  0.014312   \n",
       "1  0.283810  0.185874  0.204715  0.292734  0.321123 -0.359163  0.263899   \n",
       "2  0.323059  0.200238  0.199566  0.288144  0.347120 -0.392760  0.259642   \n",
       "\n",
       "      B11_7     B12_7     B05_7  ...    NDBI_9   LSWI2_9    B11_11    B12_11  \\\n",
       "0  0.324716  0.204250  0.174650  ... -0.264708  0.041466  0.315360  0.201311   \n",
       "1  0.283403  0.185829  0.195995  ... -0.353670  0.287560  0.262824  0.169689   \n",
       "2  0.350821  0.223944  0.210791  ... -0.439905  0.268981  0.323004  0.195420   \n",
       "\n",
       "     B05_11    B06_11   NDVI_11   NDBI_11  LSWI2_11  Irrigation  \n",
       "0  0.161962  0.191630  0.159782 -0.262815  0.039018           0  \n",
       "1  0.170315  0.270060  0.288574 -0.334296  0.248330           1  \n",
       "2  0.183496  0.256162  0.310311 -0.361256  0.211741           1  \n",
       "\n",
       "[3 rows x 29 columns]"
      ]
     },
     "execution_count": 29,
     "metadata": {},
     "output_type": "execute_result"
    }
   ],
   "source": [
    "df_train = pd.read_csv('Data/Irrigation_train.csv')\n",
    "\n",
    "if VERBOSE:\n",
    "    logger.info(f'Training data were loaded')\n",
    "    logger.info(f'Number of instances:  {df_train.shape[0]}')\n",
    "    logger.info(f'Number of features:   {df_train.shape[1]}')\n",
    "\n",
    "df_train.head( 3 )"
   ]
  },
  {
   "cell_type": "markdown",
   "metadata": {},
   "source": [
    "## Testing data"
   ]
  },
  {
   "cell_type": "code",
   "execution_count": 30,
   "metadata": {},
   "outputs": [
    {
     "name": "stderr",
     "output_type": "stream",
     "text": [
      "[INFO] Testing data were loaded\n",
      "[INFO] Testing data were loaded\n",
      "[INFO] Number of instances:  9168\n",
      "[INFO] Number of instances:  9168\n",
      "[INFO] Number of features:   29\n",
      "[INFO] Number of features:   29\n"
     ]
    },
    {
     "data": {
      "text/html": [
       "<div>\n",
       "<style scoped>\n",
       "    .dataframe tbody tr th:only-of-type {\n",
       "        vertical-align: middle;\n",
       "    }\n",
       "\n",
       "    .dataframe tbody tr th {\n",
       "        vertical-align: top;\n",
       "    }\n",
       "\n",
       "    .dataframe thead th {\n",
       "        text-align: right;\n",
       "    }\n",
       "</style>\n",
       "<table border=\"1\" class=\"dataframe\">\n",
       "  <thead>\n",
       "    <tr style=\"text-align: right;\">\n",
       "      <th></th>\n",
       "      <th>B11_5</th>\n",
       "      <th>B12_5</th>\n",
       "      <th>B05_5</th>\n",
       "      <th>B06_5</th>\n",
       "      <th>NDVI_5</th>\n",
       "      <th>NDBI_5</th>\n",
       "      <th>LSWI2_5</th>\n",
       "      <th>B11_7</th>\n",
       "      <th>B12_7</th>\n",
       "      <th>B05_7</th>\n",
       "      <th>...</th>\n",
       "      <th>NDBI_9</th>\n",
       "      <th>LSWI2_9</th>\n",
       "      <th>B11_11</th>\n",
       "      <th>B12_11</th>\n",
       "      <th>B05_11</th>\n",
       "      <th>B06_11</th>\n",
       "      <th>NDVI_11</th>\n",
       "      <th>NDBI_11</th>\n",
       "      <th>LSWI2_11</th>\n",
       "      <th>Irrigation</th>\n",
       "    </tr>\n",
       "  </thead>\n",
       "  <tbody>\n",
       "    <tr>\n",
       "      <th>0</th>\n",
       "      <td>0.421100</td>\n",
       "      <td>0.311280</td>\n",
       "      <td>0.310160</td>\n",
       "      <td>0.353980</td>\n",
       "      <td>0.105571</td>\n",
       "      <td>-0.175377</td>\n",
       "      <td>0.091689</td>\n",
       "      <td>0.420820</td>\n",
       "      <td>0.306320</td>\n",
       "      <td>0.310420</td>\n",
       "      <td>...</td>\n",
       "      <td>-0.193568</td>\n",
       "      <td>0.095023</td>\n",
       "      <td>0.388280</td>\n",
       "      <td>0.273980</td>\n",
       "      <td>0.285980</td>\n",
       "      <td>0.330560</td>\n",
       "      <td>0.105511</td>\n",
       "      <td>-0.177666</td>\n",
       "      <td>0.116607</td>\n",
       "      <td>0</td>\n",
       "    </tr>\n",
       "    <tr>\n",
       "      <th>1</th>\n",
       "      <td>0.423193</td>\n",
       "      <td>0.290619</td>\n",
       "      <td>0.254927</td>\n",
       "      <td>0.281671</td>\n",
       "      <td>0.137560</td>\n",
       "      <td>-0.244459</td>\n",
       "      <td>0.019792</td>\n",
       "      <td>0.431956</td>\n",
       "      <td>0.301435</td>\n",
       "      <td>0.257873</td>\n",
       "      <td>...</td>\n",
       "      <td>-0.239738</td>\n",
       "      <td>0.043115</td>\n",
       "      <td>0.379723</td>\n",
       "      <td>0.252394</td>\n",
       "      <td>0.238974</td>\n",
       "      <td>0.265378</td>\n",
       "      <td>0.135794</td>\n",
       "      <td>-0.245699</td>\n",
       "      <td>0.070134</td>\n",
       "      <td>1</td>\n",
       "    </tr>\n",
       "    <tr>\n",
       "      <th>2</th>\n",
       "      <td>0.319944</td>\n",
       "      <td>0.240518</td>\n",
       "      <td>0.192145</td>\n",
       "      <td>0.214765</td>\n",
       "      <td>0.104318</td>\n",
       "      <td>-0.246053</td>\n",
       "      <td>-0.044005</td>\n",
       "      <td>0.343052</td>\n",
       "      <td>0.246591</td>\n",
       "      <td>0.211662</td>\n",
       "      <td>...</td>\n",
       "      <td>-0.236559</td>\n",
       "      <td>0.004437</td>\n",
       "      <td>0.333574</td>\n",
       "      <td>0.236871</td>\n",
       "      <td>0.211484</td>\n",
       "      <td>0.236254</td>\n",
       "      <td>0.110759</td>\n",
       "      <td>-0.240793</td>\n",
       "      <td>0.024197</td>\n",
       "      <td>0</td>\n",
       "    </tr>\n",
       "  </tbody>\n",
       "</table>\n",
       "<p>3 rows × 29 columns</p>\n",
       "</div>"
      ],
      "text/plain": [
       "      B11_5     B12_5     B05_5     B06_5    NDVI_5    NDBI_5   LSWI2_5  \\\n",
       "0  0.421100  0.311280  0.310160  0.353980  0.105571 -0.175377  0.091689   \n",
       "1  0.423193  0.290619  0.254927  0.281671  0.137560 -0.244459  0.019792   \n",
       "2  0.319944  0.240518  0.192145  0.214765  0.104318 -0.246053 -0.044005   \n",
       "\n",
       "      B11_7     B12_7     B05_7  ...    NDBI_9   LSWI2_9    B11_11    B12_11  \\\n",
       "0  0.420820  0.306320  0.310420  ... -0.193568  0.095023  0.388280  0.273980   \n",
       "1  0.431956  0.301435  0.257873  ... -0.239738  0.043115  0.379723  0.252394   \n",
       "2  0.343052  0.246591  0.211662  ... -0.236559  0.004437  0.333574  0.236871   \n",
       "\n",
       "     B05_11    B06_11   NDVI_11   NDBI_11  LSWI2_11  Irrigation  \n",
       "0  0.285980  0.330560  0.105511 -0.177666  0.116607           0  \n",
       "1  0.238974  0.265378  0.135794 -0.245699  0.070134           1  \n",
       "2  0.211484  0.236254  0.110759 -0.240793  0.024197           0  \n",
       "\n",
       "[3 rows x 29 columns]"
      ]
     },
     "execution_count": 30,
     "metadata": {},
     "output_type": "execute_result"
    }
   ],
   "source": [
    "df_test = pd.read_csv('Data/Irrigation_test.csv')\n",
    "\n",
    "if VERBOSE:\n",
    "    logger.info(f'Testing data were loaded')\n",
    "    logger.info(f'Number of instances:  {df_test.shape[0]}')\n",
    "    logger.info(f'Number of features:   {df_test.shape[1]}')\n",
    "\n",
    "df_test.head( 3 )"
   ]
  },
  {
   "cell_type": "markdown",
   "metadata": {},
   "source": [
    "## Pre-processing data"
   ]
  },
  {
   "cell_type": "code",
   "execution_count": 31,
   "metadata": {},
   "outputs": [
    {
     "name": "stderr",
     "output_type": "stream",
     "text": [
      "[INFO] Target class was transformed using Label-Encoding\n",
      "[INFO] Target class was transformed using Label-Encoding\n"
     ]
    }
   ],
   "source": [
    "# Setup Label-Encoder\n",
    "#\n",
    "LabelEncoding = preprocessing.LabelEncoder()\n",
    "\n",
    "# Fit encoder\n",
    "#\n",
    "LabelEncoding.fit( df_train[ 'Irrigation' ] )\n",
    "\n",
    "# Apply encoder\n",
    "df_train[ 'Irrigation' ] = LabelEncoding.transform( df_train['Irrigation' ] )\n",
    "df_test[ 'Irrigation' ]  = LabelEncoding.transform( df_test[ 'Irrigation']  )\n",
    "\n",
    "if VERBOSE:\n",
    "    logger.info('Target class was transformed using Label-Encoding')"
   ]
  },
  {
   "cell_type": "markdown",
   "metadata": {},
   "source": [
    "# Training/Testing sets"
   ]
  },
  {
   "cell_type": "code",
   "execution_count": 32,
   "metadata": {},
   "outputs": [],
   "source": [
    "# Training/Validation data\n",
    "trainX = df_train.iloc[:, :-1]\n",
    "trainY = df_train.iloc[:,  -1]\n",
    "trainX, validX, trainY, validY = train_test_split(trainX, trainY, test_size = 0.1, random_state = seed)\n",
    "\n",
    "# # Convert dataset to special XGBoost optimised data structure\n",
    "# dtrain = xgboost.DMatrix(trainX, label = trainY)\n",
    "# dvalid = xgboost.DMatrix(validX, label = validY)\n",
    "\n",
    "\n",
    "# Testing data\n",
    "testX  = df_test.iloc[:, :-1]\n",
    "testY  = df_test.iloc[:,  -1]"
   ]
  },
  {
   "cell_type": "markdown",
   "metadata": {},
   "source": [
    "# Hyperparameter optimization"
   ]
  },
  {
   "cell_type": "code",
   "execution_count": 33,
   "metadata": {},
   "outputs": [
    {
     "name": "stderr",
     "output_type": "stream",
     "text": [
      "[INFO] MLFlow server is connected\n",
      "[INFO] MLFlow server is connected\n"
     ]
    }
   ],
   "source": [
    "# Initiate mlflow server\n",
    "# Command: mlflow server --backend-store-uri sqlite:///mlflow.db --default-artifact-root ./artifacts --host 0.0.0.0 --port 5000\n",
    "# \n",
    "import mlflow\n",
    "from   mlflow.models.signature import infer_signature\n",
    "\n",
    "mlflow.set_tracking_uri(\"http://0.0.0.0:5000/\")\n",
    "mlflow.set_experiment(\"Irrigation-Experiment\")\n",
    "\n",
    "if VERBOSE:\n",
    "    logger.info('MLFlow server is connected')"
   ]
  },
  {
   "cell_type": "code",
   "execution_count": 34,
   "metadata": {},
   "outputs": [],
   "source": [
    "class Parameter_Evaluation():\n",
    "    def __init__(self, trainX, trainY, validX, validY, VERBOSE = True):\n",
    "        # Data\n",
    "        self.trainX = trainX\n",
    "        self.trainY = trainY\n",
    "        self.validX = validX\n",
    "        self.validY = validY\n",
    "        # \n",
    "        self.VERBOSE = VERBOSE\n",
    "        # Number of iterations\n",
    "        self.Iter        = 1\n",
    "        # Best score\n",
    "        self.best_score  = 0\n",
    "        \n",
    "    def select_model(self, model):\n",
    "        self.model = model\n",
    "\n",
    "        \n",
    "    def evaluate_params(self, params):\n",
    "        \n",
    "        tag     = {\"Simulation\" : \"sample-\" + str(self.Iter), \"model\": \"XGBoost\"}\n",
    "        runname = \"XGBoost-test-run-\" + str(self.Iter)\n",
    "\n",
    "        with mlflow.start_run(run_name = runname) as run:\n",
    "            # Tags to help in tracking\n",
    "            mlflow.set_tags(tag)\n",
    "\n",
    "            # Log params/hyperparameters used in experiement\n",
    "            mlflow.log_params(params)\n",
    "            \n",
    "\n",
    "            # Setup model\n",
    "            #\n",
    "            model =  self.model.set_params( **params )\n",
    "            \n",
    "            # Train model\n",
    "            #\n",
    "            model.fit(self.trainX, self.trainY, \n",
    "                    eval_metric = 'auc', \n",
    "                    eval_set = [ (self.validX, self.validY) ],\n",
    "                    early_stopping_rounds = early_stopping_rounds);\n",
    "\n",
    "        \n",
    "            # Evaluation\n",
    "            #\n",
    "            pred = model.predict( self.validX )\n",
    "            #\n",
    "            Accuracy  = 100.0 * metrics.accuracy_score( pred, self.validY )\n",
    "            try:\n",
    "                AUC   = metrics.roc_auc_score( pred, self.validY )\n",
    "            except:\n",
    "                AUC   = 0.0\n",
    "            Recall    = metrics.recall_score( pred, self.validY )\n",
    "            Precision = metrics.precision_score( pred, self.validY )        \n",
    "            \n",
    "            # Calculate Confusion Matrix (CM)\n",
    "            CM = metrics.confusion_matrix(self.validY, pred)\n",
    "            GM = math.sqrt( np.diag( CM ).prod() ) / math.sqrt( CM[0, :].sum() * CM[1, :].sum() )\n",
    "\n",
    "            \n",
    "            # Export results\n",
    "            if (AUC > self.best_score): self.best_score = AUC\n",
    "            \n",
    "            if self.VERBOSE:\n",
    "                logger.info( \"Iteration {:3.0f} with Accuracy = {:6.3f}% AUC = {:6.3f} GM = {:6.3f}\".format(self.Iter, Accuracy, AUC, GM) )\n",
    "               \n",
    "            \n",
    "\n",
    "            mlflow.log_metric(\"Accuracy\",       Accuracy)\n",
    "            mlflow.log_metric(\"AUC\",            AUC)\n",
    "            mlflow.log_metric(\"Recall\",         Recall)\n",
    "            mlflow.log_metric(\"Precision\",      Precision)\n",
    "            mlflow.log_metric(\"Geometric Mean\", GM)\n",
    "            \n",
    "            signature = infer_signature(self.validX, pred)\n",
    "            \n",
    "            # Log model created\n",
    "            mlflow.sklearn.log_model(model, artifact_path = \"models\", signature = signature) \n",
    "\n",
    "        mlflow.end_run()\n",
    "          \n",
    "        # Update Iteration counter\n",
    "        self.Iter += 1\n",
    "        \n",
    "        \n",
    "        return( -AUC )"
   ]
  },
  {
   "cell_type": "code",
   "execution_count": 35,
   "metadata": {},
   "outputs": [],
   "source": [
    "evaluator = Parameter_Evaluation(trainX, trainY, validX, validY)"
   ]
  },
  {
   "cell_type": "markdown",
   "metadata": {},
   "source": [
    "# Prediction model"
   ]
  },
  {
   "cell_type": "code",
   "execution_count": 36,
   "metadata": {},
   "outputs": [
    {
     "name": "stderr",
     "output_type": "stream",
     "text": [
      "[INFO] Model was setup\n",
      "[INFO] Model was setup\n"
     ]
    },
    {
     "data": {
      "text/plain": [
       "XGBClassifier(base_score=None, booster=None, callbacks=None,\n",
       "              colsample_bylevel=None, colsample_bynode=None,\n",
       "              colsample_bytree=None, early_stopping_rounds=None,\n",
       "              enable_categorical=False, eval_metric=None, gamma=None,\n",
       "              gpu_id=None, grow_policy=None, importance_type=None,\n",
       "              interaction_constraints=None, learning_rate=None, max_bin=None,\n",
       "              max_cat_to_onehot=None, max_delta_step=None, max_depth=None,\n",
       "              max_leaves=None, min_child_weight=None, missing=nan,\n",
       "              monotone_constraints=None, n_estimators=1000, n_jobs=-1,\n",
       "              num_parallel_tree=None, predictor=None, random_state=None,\n",
       "              reg_alpha=None, reg_lambda=None, ...)"
      ]
     },
     "execution_count": 36,
     "metadata": {},
     "output_type": "execute_result"
    }
   ],
   "source": [
    "# Setup model\n",
    "#\n",
    "model = xgboost.XGBClassifier(n_estimators        = n_estimators, \n",
    "                              n_jobs              = -1, \n",
    "                              objective           = 'binary:logistic', \n",
    "                              validate_parameters = True, \n",
    "                              verbosity           = 1) \n",
    "\n",
    "if VERBOSE:\n",
    "    logger.info('Model was setup')\n",
    "model"
   ]
  },
  {
   "cell_type": "code",
   "execution_count": 37,
   "metadata": {},
   "outputs": [],
   "source": [
    "# import xgboost\n",
    "\n",
    "\n",
    "\n",
    "# # Convert dataset to special XGBoost optimised data structure\n",
    "# dtrain_matrix = xgboost.DMatrix(trainX, label = trainY)\n",
    "# # dcomp_matrix  = xgb.DMatrix(cd_enc)\n",
    "\n",
    "\n",
    "# # List of parameters\n",
    "# params = {\n",
    "#     'booster': 'gbtree',\n",
    "#     'objective': 'reg:squarederror',\n",
    "#     'learning_rate': 0.3,\n",
    "#     'n_jobs': -1,\n",
    "# }\n",
    "\n",
    "# # Fit the model\n",
    "# xgb_cv = xgboost.cv(params                = params,\n",
    "#                     dtrain                = dtrain_matrix,\n",
    "#                     num_boost_round       = num_boost_round,\n",
    "#                     nfold                 = nfold, \n",
    "#                     show_stdv             = False,\n",
    "#                     metrics               = ['auc', 'aucpr'], \n",
    "#                     as_pandas             = True,\n",
    "#                     stratified            = True,\n",
    "#                     seed                  = seed,\n",
    "#                     early_stopping_rounds = early_stopping_rounds, \n",
    "# )\n",
    "\n"
   ]
  },
  {
   "cell_type": "markdown",
   "metadata": {},
   "source": [
    "## Parameters"
   ]
  },
  {
   "cell_type": "code",
   "execution_count": 38,
   "metadata": {},
   "outputs": [],
   "source": [
    "# XGBoost\n",
    "search_space = [ \n",
    "                 skopt.space.Real(0.01, 0.1,  name='learning_rate'),\n",
    "                 skopt.space.Integer(3, 15,   name='max_depth'),\n",
    "                 #\n",
    "                 skopt.space.Real(1, 9,       name='gamma'),\n",
    "                 skopt.space.Integer(40, 180, name='reg_alpha'),\n",
    "                 skopt.space.Real(0, 1,       name='reg_lambda'),\n",
    "                 #\n",
    "                 skopt.space.Integer(2, 10,   name='min_child_weight'),\n",
    "                 skopt.space.Integer(2, 5,    name='max_leaves'),\n",
    "                 #\n",
    "                 skopt.space.Categorical(categories = ['gbtree', 'dart'], name = \"booster\")\n",
    "]"
   ]
  },
  {
   "cell_type": "code",
   "execution_count": 39,
   "metadata": {},
   "outputs": [],
   "source": [
    "HPO_params = {\n",
    "              'n_calls':         n_calls,\n",
    "              'n_random_starts': n_random_starts,\n",
    "              'base_estimator':  'ET',\n",
    "              'acq_func':        'EI',\n",
    "             }"
   ]
  },
  {
   "cell_type": "markdown",
   "metadata": {},
   "source": [
    "## Hyperparameter optimization process"
   ]
  },
  {
   "cell_type": "code",
   "execution_count": 40,
   "metadata": {},
   "outputs": [],
   "source": [
    "evaluator.select_model( model )"
   ]
  },
  {
   "cell_type": "code",
   "execution_count": 41,
   "metadata": {},
   "outputs": [],
   "source": [
    "@skopt.utils.use_named_args( search_space )\n",
    "def objective( **params ):\n",
    "    return  evaluator.evaluate_params( params )"
   ]
  },
  {
   "cell_type": "code",
   "execution_count": 42,
   "metadata": {
    "scrolled": true
   },
   "outputs": [
    {
     "name": "stdout",
     "output_type": "stream",
     "text": [
      "[0]\tvalidation_0-auc:0.68060\n",
      "[1]\tvalidation_0-auc:0.68979\n",
      "[2]\tvalidation_0-auc:0.69720\n",
      "[3]\tvalidation_0-auc:0.69888\n",
      "[4]\tvalidation_0-auc:0.70486\n",
      "[5]\tvalidation_0-auc:0.70799\n",
      "[6]\tvalidation_0-auc:0.71477\n",
      "[7]\tvalidation_0-auc:0.71650\n",
      "[8]\tvalidation_0-auc:0.71971\n",
      "[9]\tvalidation_0-auc:0.72407\n",
      "[10]\tvalidation_0-auc:0.72621\n",
      "[11]\tvalidation_0-auc:0.72592\n",
      "[12]\tvalidation_0-auc:0.72903\n",
      "[13]\tvalidation_0-auc:0.72964\n",
      "[14]\tvalidation_0-auc:0.73300\n",
      "[15]\tvalidation_0-auc:0.73535\n",
      "[16]\tvalidation_0-auc:0.73722\n",
      "[17]\tvalidation_0-auc:0.73913\n",
      "[18]\tvalidation_0-auc:0.74122\n",
      "[19]\tvalidation_0-auc:0.74122\n",
      "[20]\tvalidation_0-auc:0.74337\n",
      "[21]\tvalidation_0-auc:0.74511\n",
      "[22]\tvalidation_0-auc:0.74728\n",
      "[23]\tvalidation_0-auc:0.74790\n",
      "[24]\tvalidation_0-auc:0.74904\n",
      "[25]\tvalidation_0-auc:0.75012\n",
      "[26]\tvalidation_0-auc:0.75136\n",
      "[27]\tvalidation_0-auc:0.75283\n",
      "[28]\tvalidation_0-auc:0.75394\n",
      "[29]\tvalidation_0-auc:0.75511\n",
      "[30]\tvalidation_0-auc:0.75576\n",
      "[31]\tvalidation_0-auc:0.75625\n",
      "[32]\tvalidation_0-auc:0.75729\n",
      "[33]\tvalidation_0-auc:0.75742\n",
      "[34]\tvalidation_0-auc:0.75865\n",
      "[35]\tvalidation_0-auc:0.75954\n",
      "[36]\tvalidation_0-auc:0.75979\n",
      "[37]\tvalidation_0-auc:0.76041\n",
      "[38]\tvalidation_0-auc:0.76059\n",
      "[39]\tvalidation_0-auc:0.76148\n",
      "[40]\tvalidation_0-auc:0.76200\n",
      "[41]\tvalidation_0-auc:0.76235\n",
      "[42]\tvalidation_0-auc:0.76281\n",
      "[43]\tvalidation_0-auc:0.76340\n",
      "[44]\tvalidation_0-auc:0.76374\n",
      "[45]\tvalidation_0-auc:0.76484\n",
      "[46]\tvalidation_0-auc:0.76537\n",
      "[47]\tvalidation_0-auc:0.76575\n",
      "[48]\tvalidation_0-auc:0.76610\n",
      "[49]\tvalidation_0-auc:0.76670\n",
      "[50]\tvalidation_0-auc:0.76707\n",
      "[51]\tvalidation_0-auc:0.76790\n",
      "[52]\tvalidation_0-auc:0.76853\n",
      "[53]\tvalidation_0-auc:0.76877\n",
      "[54]\tvalidation_0-auc:0.76968\n",
      "[55]\tvalidation_0-auc:0.77020\n",
      "[56]\tvalidation_0-auc:0.77057\n",
      "[57]\tvalidation_0-auc:0.77100\n",
      "[58]\tvalidation_0-auc:0.77121\n",
      "[59]\tvalidation_0-auc:0.77131\n",
      "[60]\tvalidation_0-auc:0.77165\n",
      "[61]\tvalidation_0-auc:0.77206\n",
      "[62]\tvalidation_0-auc:0.77256\n",
      "[63]\tvalidation_0-auc:0.77321\n",
      "[64]\tvalidation_0-auc:0.77331\n",
      "[65]\tvalidation_0-auc:0.77352\n",
      "[66]\tvalidation_0-auc:0.77377\n",
      "[67]\tvalidation_0-auc:0.77415\n",
      "[68]\tvalidation_0-auc:0.77468\n",
      "[69]\tvalidation_0-auc:0.77499\n",
      "[70]\tvalidation_0-auc:0.77510\n",
      "[71]\tvalidation_0-auc:0.77537\n",
      "[72]\tvalidation_0-auc:0.77603\n",
      "[73]\tvalidation_0-auc:0.77640\n",
      "[74]\tvalidation_0-auc:0.77704\n",
      "[75]\tvalidation_0-auc:0.77741\n",
      "[76]\tvalidation_0-auc:0.77791\n",
      "[77]\tvalidation_0-auc:0.77829\n",
      "[78]\tvalidation_0-auc:0.77864\n",
      "[79]\tvalidation_0-auc:0.77913\n",
      "[80]\tvalidation_0-auc:0.77967\n",
      "[81]\tvalidation_0-auc:0.77994\n",
      "[82]\tvalidation_0-auc:0.77998\n",
      "[83]\tvalidation_0-auc:0.78053\n",
      "[84]\tvalidation_0-auc:0.78107\n",
      "[85]\tvalidation_0-auc:0.78127\n",
      "[86]\tvalidation_0-auc:0.78179\n",
      "[87]\tvalidation_0-auc:0.78209\n",
      "[88]\tvalidation_0-auc:0.78237\n",
      "[89]\tvalidation_0-auc:0.78267\n",
      "[90]\tvalidation_0-auc:0.78313\n",
      "[91]\tvalidation_0-auc:0.78329\n",
      "[92]\tvalidation_0-auc:0.78351\n",
      "[93]\tvalidation_0-auc:0.78368\n",
      "[94]\tvalidation_0-auc:0.78408\n",
      "[95]\tvalidation_0-auc:0.78440\n",
      "[96]\tvalidation_0-auc:0.78487\n"
     ]
    },
    {
     "ename": "KeyboardInterrupt",
     "evalue": "",
     "output_type": "error",
     "traceback": [
      "\u001b[0;31m---------------------------------------------------------------------------\u001b[0m",
      "\u001b[0;31mKeyboardInterrupt\u001b[0m                         Traceback (most recent call last)",
      "File \u001b[0;32m<timed exec>:1\u001b[0m\n",
      "File \u001b[0;32m~/opt/anaconda3/envs/mlflow/lib/python3.9/site-packages/skopt/optimizer/forest.py:186\u001b[0m, in \u001b[0;36mforest_minimize\u001b[0;34m(func, dimensions, base_estimator, n_calls, n_random_starts, n_initial_points, acq_func, initial_point_generator, x0, y0, random_state, verbose, callback, n_points, xi, kappa, n_jobs, model_queue_size)\u001b[0m\n\u001b[1;32m     10\u001b[0m \u001b[39mdef\u001b[39;00m \u001b[39mforest_minimize\u001b[39m(func, dimensions, base_estimator\u001b[39m=\u001b[39m\u001b[39m\"\u001b[39m\u001b[39mET\u001b[39m\u001b[39m\"\u001b[39m, n_calls\u001b[39m=\u001b[39m\u001b[39m100\u001b[39m,\n\u001b[1;32m     11\u001b[0m                     n_random_starts\u001b[39m=\u001b[39m\u001b[39mNone\u001b[39;00m, n_initial_points\u001b[39m=\u001b[39m\u001b[39m10\u001b[39m, acq_func\u001b[39m=\u001b[39m\u001b[39m\"\u001b[39m\u001b[39mEI\u001b[39m\u001b[39m\"\u001b[39m,\n\u001b[1;32m     12\u001b[0m                     initial_point_generator\u001b[39m=\u001b[39m\u001b[39m\"\u001b[39m\u001b[39mrandom\u001b[39m\u001b[39m\"\u001b[39m,\n\u001b[1;32m     13\u001b[0m                     x0\u001b[39m=\u001b[39m\u001b[39mNone\u001b[39;00m, y0\u001b[39m=\u001b[39m\u001b[39mNone\u001b[39;00m, random_state\u001b[39m=\u001b[39m\u001b[39mNone\u001b[39;00m, verbose\u001b[39m=\u001b[39m\u001b[39mFalse\u001b[39;00m,\n\u001b[1;32m     14\u001b[0m                     callback\u001b[39m=\u001b[39m\u001b[39mNone\u001b[39;00m, n_points\u001b[39m=\u001b[39m\u001b[39m10000\u001b[39m, xi\u001b[39m=\u001b[39m\u001b[39m0.01\u001b[39m, kappa\u001b[39m=\u001b[39m\u001b[39m1.96\u001b[39m,\n\u001b[1;32m     15\u001b[0m                     n_jobs\u001b[39m=\u001b[39m\u001b[39m1\u001b[39m, model_queue_size\u001b[39m=\u001b[39m\u001b[39mNone\u001b[39;00m):\n\u001b[1;32m     16\u001b[0m     \u001b[39m\"\"\"Sequential optimisation using decision trees.\u001b[39;00m\n\u001b[1;32m     17\u001b[0m \n\u001b[1;32m     18\u001b[0m \u001b[39m    A tree based regression model is used to model the expensive to evaluate\u001b[39;00m\n\u001b[0;32m   (...)\u001b[0m\n\u001b[1;32m    184\u001b[0m \u001b[39m        :class:`skopt.dummy_minimize`, :class:`skopt.gbrt_minimize`\u001b[39;00m\n\u001b[1;32m    185\u001b[0m \u001b[39m    \"\"\"\u001b[39;00m\n\u001b[0;32m--> 186\u001b[0m     \u001b[39mreturn\u001b[39;00m base_minimize(func, dimensions, base_estimator,\n\u001b[1;32m    187\u001b[0m                          n_calls\u001b[39m=\u001b[39;49mn_calls, n_points\u001b[39m=\u001b[39;49mn_points,\n\u001b[1;32m    188\u001b[0m                          n_random_starts\u001b[39m=\u001b[39;49mn_random_starts,\n\u001b[1;32m    189\u001b[0m                          n_initial_points\u001b[39m=\u001b[39;49mn_initial_points,\n\u001b[1;32m    190\u001b[0m                          initial_point_generator\u001b[39m=\u001b[39;49minitial_point_generator,\n\u001b[1;32m    191\u001b[0m                          x0\u001b[39m=\u001b[39;49mx0, y0\u001b[39m=\u001b[39;49my0, random_state\u001b[39m=\u001b[39;49mrandom_state,\n\u001b[1;32m    192\u001b[0m                          n_jobs\u001b[39m=\u001b[39;49mn_jobs,\n\u001b[1;32m    193\u001b[0m                          acq_func\u001b[39m=\u001b[39;49macq_func,\n\u001b[1;32m    194\u001b[0m                          xi\u001b[39m=\u001b[39;49mxi, kappa\u001b[39m=\u001b[39;49mkappa, verbose\u001b[39m=\u001b[39;49mverbose,\n\u001b[1;32m    195\u001b[0m                          callback\u001b[39m=\u001b[39;49mcallback, acq_optimizer\u001b[39m=\u001b[39;49m\u001b[39m\"\u001b[39;49m\u001b[39msampling\u001b[39;49m\u001b[39m\"\u001b[39;49m,\n\u001b[1;32m    196\u001b[0m                          model_queue_size\u001b[39m=\u001b[39;49mmodel_queue_size)\n",
      "File \u001b[0;32m~/opt/anaconda3/envs/mlflow/lib/python3.9/site-packages/skopt/optimizer/base.py:299\u001b[0m, in \u001b[0;36mbase_minimize\u001b[0;34m(func, dimensions, base_estimator, n_calls, n_random_starts, n_initial_points, initial_point_generator, acq_func, acq_optimizer, x0, y0, random_state, verbose, callback, n_points, n_restarts_optimizer, xi, kappa, n_jobs, model_queue_size)\u001b[0m\n\u001b[1;32m    297\u001b[0m \u001b[39mfor\u001b[39;00m n \u001b[39min\u001b[39;00m \u001b[39mrange\u001b[39m(n_calls):\n\u001b[1;32m    298\u001b[0m     next_x \u001b[39m=\u001b[39m optimizer\u001b[39m.\u001b[39mask()\n\u001b[0;32m--> 299\u001b[0m     next_y \u001b[39m=\u001b[39m func(next_x)\n\u001b[1;32m    300\u001b[0m     result \u001b[39m=\u001b[39m optimizer\u001b[39m.\u001b[39mtell(next_x, next_y)\n\u001b[1;32m    301\u001b[0m     result\u001b[39m.\u001b[39mspecs \u001b[39m=\u001b[39m specs\n",
      "File \u001b[0;32m~/opt/anaconda3/envs/mlflow/lib/python3.9/site-packages/skopt/utils.py:789\u001b[0m, in \u001b[0;36muse_named_args.<locals>.decorator.<locals>.wrapper\u001b[0;34m(x)\u001b[0m\n\u001b[1;32m    786\u001b[0m arg_dict \u001b[39m=\u001b[39m {dim\u001b[39m.\u001b[39mname: value \u001b[39mfor\u001b[39;00m dim, value \u001b[39min\u001b[39;00m \u001b[39mzip\u001b[39m(dimensions, x)}\n\u001b[1;32m    788\u001b[0m \u001b[39m# Call the wrapped objective function with the named arguments.\u001b[39;00m\n\u001b[0;32m--> 789\u001b[0m objective_value \u001b[39m=\u001b[39m func(\u001b[39m*\u001b[39;49m\u001b[39m*\u001b[39;49marg_dict)\n\u001b[1;32m    791\u001b[0m \u001b[39mreturn\u001b[39;00m objective_value\n",
      "Cell \u001b[0;32mIn [41], line 3\u001b[0m, in \u001b[0;36mobjective\u001b[0;34m(**params)\u001b[0m\n\u001b[1;32m      1\u001b[0m \u001b[38;5;129m@skopt\u001b[39m\u001b[38;5;241m.\u001b[39mutils\u001b[38;5;241m.\u001b[39muse_named_args( search_space )\n\u001b[1;32m      2\u001b[0m \u001b[38;5;28;01mdef\u001b[39;00m \u001b[38;5;21mobjective\u001b[39m( \u001b[38;5;241m*\u001b[39m\u001b[38;5;241m*\u001b[39mparams ):\n\u001b[0;32m----> 3\u001b[0m     \u001b[38;5;28;01mreturn\u001b[39;00m  \u001b[43mevaluator\u001b[49m\u001b[38;5;241;43m.\u001b[39;49m\u001b[43mevaluate_params\u001b[49m\u001b[43m(\u001b[49m\u001b[43m \u001b[49m\u001b[43mparams\u001b[49m\u001b[43m \u001b[49m\u001b[43m)\u001b[49m\n",
      "Cell \u001b[0;32mIn [34], line 38\u001b[0m, in \u001b[0;36mParameter_Evaluation.evaluate_params\u001b[0;34m(self, params)\u001b[0m\n\u001b[1;32m     34\u001b[0m model \u001b[38;5;241m=\u001b[39m  \u001b[38;5;28mself\u001b[39m\u001b[38;5;241m.\u001b[39mmodel\u001b[38;5;241m.\u001b[39mset_params( \u001b[38;5;241m*\u001b[39m\u001b[38;5;241m*\u001b[39mparams )\n\u001b[1;32m     36\u001b[0m \u001b[38;5;66;03m# Train model\u001b[39;00m\n\u001b[1;32m     37\u001b[0m \u001b[38;5;66;03m#\u001b[39;00m\n\u001b[0;32m---> 38\u001b[0m \u001b[43mmodel\u001b[49m\u001b[38;5;241;43m.\u001b[39;49m\u001b[43mfit\u001b[49m\u001b[43m(\u001b[49m\u001b[38;5;28;43mself\u001b[39;49m\u001b[38;5;241;43m.\u001b[39;49m\u001b[43mtrainX\u001b[49m\u001b[43m,\u001b[49m\u001b[43m \u001b[49m\u001b[38;5;28;43mself\u001b[39;49m\u001b[38;5;241;43m.\u001b[39;49m\u001b[43mtrainY\u001b[49m\u001b[43m,\u001b[49m\u001b[43m \u001b[49m\n\u001b[1;32m     39\u001b[0m \u001b[43m        \u001b[49m\u001b[43meval_metric\u001b[49m\u001b[43m \u001b[49m\u001b[38;5;241;43m=\u001b[39;49m\u001b[43m \u001b[49m\u001b[38;5;124;43m'\u001b[39;49m\u001b[38;5;124;43mauc\u001b[39;49m\u001b[38;5;124;43m'\u001b[39;49m\u001b[43m,\u001b[49m\u001b[43m \u001b[49m\n\u001b[1;32m     40\u001b[0m \u001b[43m        \u001b[49m\u001b[43meval_set\u001b[49m\u001b[43m \u001b[49m\u001b[38;5;241;43m=\u001b[39;49m\u001b[43m \u001b[49m\u001b[43m[\u001b[49m\u001b[43m \u001b[49m\u001b[43m(\u001b[49m\u001b[38;5;28;43mself\u001b[39;49m\u001b[38;5;241;43m.\u001b[39;49m\u001b[43mvalidX\u001b[49m\u001b[43m,\u001b[49m\u001b[43m \u001b[49m\u001b[38;5;28;43mself\u001b[39;49m\u001b[38;5;241;43m.\u001b[39;49m\u001b[43mvalidY\u001b[49m\u001b[43m)\u001b[49m\u001b[43m \u001b[49m\u001b[43m]\u001b[49m\u001b[43m,\u001b[49m\n\u001b[1;32m     41\u001b[0m \u001b[43m        \u001b[49m\u001b[43mearly_stopping_rounds\u001b[49m\u001b[43m \u001b[49m\u001b[38;5;241;43m=\u001b[39;49m\u001b[43m \u001b[49m\u001b[43mearly_stopping_rounds\u001b[49m\u001b[43m)\u001b[49m;\n\u001b[1;32m     44\u001b[0m \u001b[38;5;66;03m# Evaluation\u001b[39;00m\n\u001b[1;32m     45\u001b[0m \u001b[38;5;66;03m#\u001b[39;00m\n\u001b[1;32m     46\u001b[0m pred \u001b[38;5;241m=\u001b[39m model\u001b[38;5;241m.\u001b[39mpredict( \u001b[38;5;28mself\u001b[39m\u001b[38;5;241m.\u001b[39mvalidX )\n",
      "File \u001b[0;32m~/opt/anaconda3/envs/mlflow/lib/python3.9/site-packages/xgboost/core.py:575\u001b[0m, in \u001b[0;36m_deprecate_positional_args.<locals>.inner_f\u001b[0;34m(*args, **kwargs)\u001b[0m\n\u001b[1;32m    573\u001b[0m \u001b[39mfor\u001b[39;00m k, arg \u001b[39min\u001b[39;00m \u001b[39mzip\u001b[39m(sig\u001b[39m.\u001b[39mparameters, args):\n\u001b[1;32m    574\u001b[0m     kwargs[k] \u001b[39m=\u001b[39m arg\n\u001b[0;32m--> 575\u001b[0m \u001b[39mreturn\u001b[39;00m f(\u001b[39m*\u001b[39;49m\u001b[39m*\u001b[39;49mkwargs)\n",
      "File \u001b[0;32m~/opt/anaconda3/envs/mlflow/lib/python3.9/site-packages/xgboost/sklearn.py:1400\u001b[0m, in \u001b[0;36mXGBClassifier.fit\u001b[0;34m(self, X, y, sample_weight, base_margin, eval_set, eval_metric, early_stopping_rounds, verbose, xgb_model, sample_weight_eval_set, base_margin_eval_set, feature_weights, callbacks)\u001b[0m\n\u001b[1;32m   1379\u001b[0m model, metric, params, early_stopping_rounds, callbacks \u001b[39m=\u001b[39m \u001b[39mself\u001b[39m\u001b[39m.\u001b[39m_configure_fit(\n\u001b[1;32m   1380\u001b[0m     xgb_model, eval_metric, params, early_stopping_rounds, callbacks\n\u001b[1;32m   1381\u001b[0m )\n\u001b[1;32m   1382\u001b[0m train_dmatrix, evals \u001b[39m=\u001b[39m _wrap_evaluation_matrices(\n\u001b[1;32m   1383\u001b[0m     missing\u001b[39m=\u001b[39m\u001b[39mself\u001b[39m\u001b[39m.\u001b[39mmissing,\n\u001b[1;32m   1384\u001b[0m     X\u001b[39m=\u001b[39mX,\n\u001b[0;32m   (...)\u001b[0m\n\u001b[1;32m   1397\u001b[0m     enable_categorical\u001b[39m=\u001b[39m\u001b[39mself\u001b[39m\u001b[39m.\u001b[39menable_categorical,\n\u001b[1;32m   1398\u001b[0m )\n\u001b[0;32m-> 1400\u001b[0m \u001b[39mself\u001b[39m\u001b[39m.\u001b[39m_Booster \u001b[39m=\u001b[39m train(\n\u001b[1;32m   1401\u001b[0m     params,\n\u001b[1;32m   1402\u001b[0m     train_dmatrix,\n\u001b[1;32m   1403\u001b[0m     \u001b[39mself\u001b[39;49m\u001b[39m.\u001b[39;49mget_num_boosting_rounds(),\n\u001b[1;32m   1404\u001b[0m     evals\u001b[39m=\u001b[39;49mevals,\n\u001b[1;32m   1405\u001b[0m     early_stopping_rounds\u001b[39m=\u001b[39;49mearly_stopping_rounds,\n\u001b[1;32m   1406\u001b[0m     evals_result\u001b[39m=\u001b[39;49mevals_result,\n\u001b[1;32m   1407\u001b[0m     obj\u001b[39m=\u001b[39;49mobj,\n\u001b[1;32m   1408\u001b[0m     custom_metric\u001b[39m=\u001b[39;49mmetric,\n\u001b[1;32m   1409\u001b[0m     verbose_eval\u001b[39m=\u001b[39;49mverbose,\n\u001b[1;32m   1410\u001b[0m     xgb_model\u001b[39m=\u001b[39;49mmodel,\n\u001b[1;32m   1411\u001b[0m     callbacks\u001b[39m=\u001b[39;49mcallbacks,\n\u001b[1;32m   1412\u001b[0m )\n\u001b[1;32m   1414\u001b[0m \u001b[39mif\u001b[39;00m \u001b[39mnot\u001b[39;00m callable(\u001b[39mself\u001b[39m\u001b[39m.\u001b[39mobjective):\n\u001b[1;32m   1415\u001b[0m     \u001b[39mself\u001b[39m\u001b[39m.\u001b[39mobjective \u001b[39m=\u001b[39m params[\u001b[39m\"\u001b[39m\u001b[39mobjective\u001b[39m\u001b[39m\"\u001b[39m]\n",
      "File \u001b[0;32m~/opt/anaconda3/envs/mlflow/lib/python3.9/site-packages/xgboost/core.py:575\u001b[0m, in \u001b[0;36m_deprecate_positional_args.<locals>.inner_f\u001b[0;34m(*args, **kwargs)\u001b[0m\n\u001b[1;32m    573\u001b[0m \u001b[39mfor\u001b[39;00m k, arg \u001b[39min\u001b[39;00m \u001b[39mzip\u001b[39m(sig\u001b[39m.\u001b[39mparameters, args):\n\u001b[1;32m    574\u001b[0m     kwargs[k] \u001b[39m=\u001b[39m arg\n\u001b[0;32m--> 575\u001b[0m \u001b[39mreturn\u001b[39;00m f(\u001b[39m*\u001b[39;49m\u001b[39m*\u001b[39;49mkwargs)\n",
      "File \u001b[0;32m~/opt/anaconda3/envs/mlflow/lib/python3.9/site-packages/xgboost/training.py:181\u001b[0m, in \u001b[0;36mtrain\u001b[0;34m(params, dtrain, num_boost_round, evals, obj, feval, maximize, early_stopping_rounds, evals_result, verbose_eval, xgb_model, callbacks, custom_metric)\u001b[0m\n\u001b[1;32m    179\u001b[0m \u001b[39mif\u001b[39;00m cb_container\u001b[39m.\u001b[39mbefore_iteration(bst, i, dtrain, evals):\n\u001b[1;32m    180\u001b[0m     \u001b[39mbreak\u001b[39;00m\n\u001b[0;32m--> 181\u001b[0m bst\u001b[39m.\u001b[39;49mupdate(dtrain, i, obj)\n\u001b[1;32m    182\u001b[0m \u001b[39mif\u001b[39;00m cb_container\u001b[39m.\u001b[39mafter_iteration(bst, i, dtrain, evals):\n\u001b[1;32m    183\u001b[0m     \u001b[39mbreak\u001b[39;00m\n",
      "File \u001b[0;32m~/opt/anaconda3/envs/mlflow/lib/python3.9/site-packages/xgboost/core.py:1778\u001b[0m, in \u001b[0;36mBooster.update\u001b[0;34m(self, dtrain, iteration, fobj)\u001b[0m\n\u001b[1;32m   1775\u001b[0m \u001b[39mself\u001b[39m\u001b[39m.\u001b[39m_validate_features(dtrain)\n\u001b[1;32m   1777\u001b[0m \u001b[39mif\u001b[39;00m fobj \u001b[39mis\u001b[39;00m \u001b[39mNone\u001b[39;00m:\n\u001b[0;32m-> 1778\u001b[0m     _check_call(_LIB\u001b[39m.\u001b[39;49mXGBoosterUpdateOneIter(\u001b[39mself\u001b[39;49m\u001b[39m.\u001b[39;49mhandle,\n\u001b[1;32m   1779\u001b[0m                                             ctypes\u001b[39m.\u001b[39;49mc_int(iteration),\n\u001b[1;32m   1780\u001b[0m                                             dtrain\u001b[39m.\u001b[39;49mhandle))\n\u001b[1;32m   1781\u001b[0m \u001b[39melse\u001b[39;00m:\n\u001b[1;32m   1782\u001b[0m     pred \u001b[39m=\u001b[39m \u001b[39mself\u001b[39m\u001b[39m.\u001b[39mpredict(dtrain, output_margin\u001b[39m=\u001b[39m\u001b[39mTrue\u001b[39;00m, training\u001b[39m=\u001b[39m\u001b[39mTrue\u001b[39;00m)\n",
      "\u001b[0;31mKeyboardInterrupt\u001b[0m: "
     ]
    }
   ],
   "source": [
    "%%time\n",
    "results = skopt.forest_minimize(objective, search_space, **HPO_params)"
   ]
  },
  {
   "cell_type": "markdown",
   "metadata": {},
   "source": [
    "## Get optimized hyperparameters"
   ]
  },
  {
   "cell_type": "code",
   "execution_count": null,
   "metadata": {},
   "outputs": [],
   "source": [
    "def to_named_params(results, search_space):\n",
    "    params       = results.x\n",
    "    param_dict   = {}\n",
    "    \n",
    "    params_list  =[(dimension.name, param) for dimension, param in zip(search_space, params)]\n",
    "    \n",
    "    for item in params_list:\n",
    "        param_dict[item[0]] = item[1]\n",
    "    \n",
    "    return( param_dict )"
   ]
  },
  {
   "cell_type": "code",
   "execution_count": null,
   "metadata": {},
   "outputs": [],
   "source": [
    "best_params = to_named_params(results, search_space)\n",
    "\n",
    "\n",
    "print('[INFO] Optimized hyperparameters\\n')\n",
    "for (parameter,value) in best_params.items():\n",
    "    if ( isinstance(value, float) ):\n",
    "        print(' >%25s: %.3f' % (parameter,value))\n",
    "    else:\n",
    "        print(' >%25s: %s' % (parameter,value))\n",
    "\n",
    "\n",
    "\n",
    "\n",
    "# Store optimized hyperparameters\n",
    "#\n",
    "def np_encoder(object):\n",
    "    if isinstance(object, np.generic):\n",
    "        return object.item()\n",
    "\n",
    "with open('checkpoint/Hyperparameters.json', 'w', encoding='utf-8') as f:\n",
    "    f.write( json.dumps( best_params, default = np_encoder ) )\n"
   ]
  },
  {
   "cell_type": "markdown",
   "metadata": {},
   "source": [
    "# Optimized (best) model setup"
   ]
  },
  {
   "cell_type": "code",
   "execution_count": null,
   "metadata": {},
   "outputs": [],
   "source": [
    "# Define model\n",
    "#\n",
    "model.set_params( **best_params )\n",
    "logger.info('Optimized-Model was loaded')\n",
    "\n",
    "# Train model\n",
    "#\n",
    "model.fit(trainX, trainY,\n",
    "          eval_metric = 'auc',           \n",
    "          eval_set = [ (validX, validY) ],\n",
    "          early_stopping_rounds = 10);\n",
    "\n",
    "if VERBOSE:\n",
    "    logger.info('Optimized-Model trained')\n",
    "\n",
    "\n",
    "# Save trained model\n",
    "#\n",
    "import pickle\n",
    "filename = 'checkpoint/model.pkl'\n",
    "pickle.dump(model, open(filename, 'wb'))\n",
    "if VERBOSE:\n",
    "    logger.info(f'Model saved in {filename}')"
   ]
  },
  {
   "cell_type": "code",
   "execution_count": null,
   "metadata": {},
   "outputs": [],
   "source": [
    "# Get predictions\n",
    "#\n",
    "pred = model.predict( testX )\n",
    "\n",
    "# Calculate Confusion Matrix (CM)\n",
    "#\n",
    "CM  = metrics.confusion_matrix(testY, pred)\n",
    "#\n",
    "#\n",
    "logger.info( 30*\"-\" )\n",
    "logger.info( \"*** Evaluation ***\")\n",
    "logger.info( \"> Accuracy:  %.2f%%\" % (100*metrics.accuracy_score( pred, testY )) )\n",
    "logger.info( \"> AUC:       %.3f\"   % metrics.roc_auc_score(pred, testY) )\n",
    "logger.info( \"> Recall:    %.3f\"   % metrics.recall_score(testY, pred) )\n",
    "logger.info( \"> Precision: %.3f\"   % metrics.precision_score(testY, pred) )\n",
    "logger.info( \"> GM:        %.3f\\n\" % (math.sqrt( np.diag( CM ).prod() ) / math.sqrt( CM[0, :].sum() * CM[1, :].sum() )) )\n",
    "\n",
    "\n",
    "CM"
   ]
  },
  {
   "cell_type": "code",
   "execution_count": null,
   "metadata": {},
   "outputs": [],
   "source": [
    "# ModelID = '0a7e804a25b74a18b560817b8d871e48'\n",
    "# logged_model = 'runs:/{}/models'.format( ModelID )\n",
    "# loaded_model = mlflow.pyfunc.load_model(logged_model)\n",
    "\n",
    "# # Get predictions\n",
    "# #\n",
    "# pred = loaded_model.predict( testX )\n",
    "\n",
    "# # Calculate Confusion Matrix (CM)\n",
    "# #\n",
    "# CM  = metrics.confusion_matrix(testY, pred)\n",
    "# #\n",
    "# #\n",
    "# logger.info( 30*\"-\" )\n",
    "# logger.info( \"*** Evaluation ***\")\n",
    "# logger.info( \"> Accuracy:  %.2f%%\" % metrics.accuracy_score( pred, testY ) )\n",
    "# logger.info( \"> AUC:       %.3f\"   % metrics.roc_auc_score(pred, testY) )\n",
    "# logger.info( \"> Recall:    %.3f\"   % metrics.recall_score(testY, pred) )\n",
    "# logger.info( \"> Precision: %.3f\"   % metrics.precision_score(testY, pred) )\n",
    "# logger.info( \"> GM:        %.3f\\n\" % (math.sqrt( np.diag( CM ).prod() ) / math.sqrt( CM[0, :].sum() * CM[1, :].sum() )) )\n",
    "\n",
    "\n",
    "# CM"
   ]
  }
 ],
 "metadata": {
  "kernelspec": {
   "display_name": "Python 3.9.13 ('mlflow')",
   "language": "python",
   "name": "python3"
  },
  "language_info": {
   "codemirror_mode": {
    "name": "ipython",
    "version": 3
   },
   "file_extension": ".py",
   "mimetype": "text/x-python",
   "name": "python",
   "nbconvert_exporter": "python",
   "pygments_lexer": "ipython3",
   "version": "3.9.13"
  },
  "toc": {
   "base_numbering": 1,
   "nav_menu": {},
   "number_sections": true,
   "sideBar": true,
   "skip_h1_title": false,
   "title_cell": "Table of Contents",
   "title_sidebar": "Contents",
   "toc_cell": false,
   "toc_position": {},
   "toc_section_display": true,
   "toc_window_display": true
  },
  "varInspector": {
   "cols": {
    "lenName": 16,
    "lenType": 16,
    "lenVar": 40
   },
   "kernels_config": {
    "python": {
     "delete_cmd_postfix": "",
     "delete_cmd_prefix": "del ",
     "library": "var_list.py",
     "varRefreshCmd": "print(var_dic_list())"
    },
    "r": {
     "delete_cmd_postfix": ") ",
     "delete_cmd_prefix": "rm(",
     "library": "var_list.r",
     "varRefreshCmd": "cat(var_dic_list()) "
    }
   },
   "types_to_exclude": [
    "module",
    "function",
    "builtin_function_or_method",
    "instance",
    "_Feature"
   ],
   "window_display": false
  },
  "vscode": {
   "interpreter": {
    "hash": "afea5bdb149cee4bb6ddbc8de92100e6e2504969dafe00b7c6b2f8f5c0fb2a33"
   }
  }
 },
 "nbformat": 4,
 "nbformat_minor": 4
}
