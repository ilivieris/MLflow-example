{
 "cells": [
  {
   "cell_type": "markdown",
   "metadata": {},
   "source": [
    "# Import libraries"
   ]
  },
  {
   "cell_type": "code",
   "execution_count": 1,
   "metadata": {},
   "outputs": [],
   "source": [
    "import warnings\n",
    "warnings.filterwarnings( 'ignore' )\n",
    "\n",
    "# =-=-=-=-=-=-=-=-=-=-=-=-=-=-=-=-=-=-=-=-=-=-=-=-=-=-=-=-=-=\n",
    "# Basic libraries\n",
    "import os\n",
    "import math\n",
    "import json\n",
    "import pickle\n",
    "import numpy    as np\n",
    "import pandas   as pd\n",
    "from   datetime import datetime\n",
    "import matplotlib\n",
    "import matplotlib.pyplot as plt\n",
    "\n",
    "# =-=-=-=-=-=-=-=-=-=-=-=-=-=-=-=-=-=-=-=-=-=-=-=-=-=-=-=-=-=\n",
    "# Sklearn\n",
    "from sklearn                 import metrics\n",
    "from sklearn.model_selection import train_test_split\n",
    "from sklearn                 import preprocessing\n",
    "from sklearn.metrics         import ConfusionMatrixDisplay\n",
    "from sklearn.metrics         import PrecisionRecallDisplay\n",
    "import skopt\n",
    "\n",
    "# =-=-=-=-=-=-=-=-=-=-=-=-=-=-=-=-=-=-=-=-=-=-=-=-=-=-=-=-=-=\n",
    "# XGBoost\n",
    "import xgboost\n",
    "\n",
    "# =-=-=-=-=-=-=-=-=-=-=-=-=-=-=-=-=-=-=-=-=-=-=-=-=-=-=-=-=-=\n",
    "# User libraries\n",
    "from utils.Logger   import *"
   ]
  },
  {
   "cell_type": "markdown",
   "metadata": {},
   "source": [
    "# Parameters"
   ]
  },
  {
   "cell_type": "code",
   "execution_count": 2,
   "metadata": {},
   "outputs": [],
   "source": [
    "# HPO parameters \n",
    "n_calls         =  10\n",
    "n_random_starts =  1\n",
    "\n",
    "# XGBoost - parameters\n",
    "n_estimators          = 1000\n",
    "early_stopping_rounds = 50\n",
    "seed                  = 42\n",
    "\n",
    "# Other parameters\n",
    "VERBOSE = True\n",
    "\n",
    "# Create directory for storing output figures\n",
    "if ~os.path.isdir('Figures'): os.mkdir('Figures')"
   ]
  },
  {
   "cell_type": "code",
   "execution_count": 3,
   "metadata": {},
   "outputs": [],
   "source": [
    "# Initiate logger\n",
    "#\n",
    "if VERBOSE:\n",
    "    logger = init_logger( log_file = 'logs.log' ) "
   ]
  },
  {
   "cell_type": "markdown",
   "metadata": {},
   "source": [
    "# Loading data"
   ]
  },
  {
   "cell_type": "markdown",
   "metadata": {},
   "source": [
    "## Training data"
   ]
  },
  {
   "cell_type": "code",
   "execution_count": 4,
   "metadata": {},
   "outputs": [
    {
     "name": "stderr",
     "output_type": "stream",
     "text": [
      "[INFO] Training data were loaded\n",
      "[INFO] Number of instances:  82503\n",
      "[INFO] Number of features:   29\n"
     ]
    },
    {
     "data": {
      "text/html": [
       "<div>\n",
       "<style scoped>\n",
       "    .dataframe tbody tr th:only-of-type {\n",
       "        vertical-align: middle;\n",
       "    }\n",
       "\n",
       "    .dataframe tbody tr th {\n",
       "        vertical-align: top;\n",
       "    }\n",
       "\n",
       "    .dataframe thead th {\n",
       "        text-align: right;\n",
       "    }\n",
       "</style>\n",
       "<table border=\"1\" class=\"dataframe\">\n",
       "  <thead>\n",
       "    <tr style=\"text-align: right;\">\n",
       "      <th></th>\n",
       "      <th>Feature-1</th>\n",
       "      <th>Feature-2</th>\n",
       "      <th>Feature-3</th>\n",
       "      <th>Feature-4</th>\n",
       "      <th>Feature-5</th>\n",
       "      <th>Feature-6</th>\n",
       "      <th>Feature-7</th>\n",
       "      <th>Feature-8</th>\n",
       "      <th>Feature-9</th>\n",
       "      <th>Feature-10</th>\n",
       "      <th>...</th>\n",
       "      <th>Feature-20</th>\n",
       "      <th>Feature-21</th>\n",
       "      <th>Feature-22</th>\n",
       "      <th>Feature-23</th>\n",
       "      <th>Feature-24</th>\n",
       "      <th>Feature-25</th>\n",
       "      <th>Feature-26</th>\n",
       "      <th>Feature-27</th>\n",
       "      <th>Feature-28</th>\n",
       "      <th>label</th>\n",
       "    </tr>\n",
       "  </thead>\n",
       "  <tbody>\n",
       "    <tr>\n",
       "      <th>0</th>\n",
       "      <td>0.325158</td>\n",
       "      <td>0.211388</td>\n",
       "      <td>0.162878</td>\n",
       "      <td>0.199771</td>\n",
       "      <td>0.163840</td>\n",
       "      <td>-0.267323</td>\n",
       "      <td>0.014312</td>\n",
       "      <td>0.324716</td>\n",
       "      <td>0.204250</td>\n",
       "      <td>0.174650</td>\n",
       "      <td>...</td>\n",
       "      <td>-0.264708</td>\n",
       "      <td>0.041466</td>\n",
       "      <td>0.315360</td>\n",
       "      <td>0.201311</td>\n",
       "      <td>0.161962</td>\n",
       "      <td>0.191630</td>\n",
       "      <td>0.159782</td>\n",
       "      <td>-0.262815</td>\n",
       "      <td>0.039018</td>\n",
       "      <td>0</td>\n",
       "    </tr>\n",
       "    <tr>\n",
       "      <th>1</th>\n",
       "      <td>0.283810</td>\n",
       "      <td>0.185874</td>\n",
       "      <td>0.204715</td>\n",
       "      <td>0.292734</td>\n",
       "      <td>0.321123</td>\n",
       "      <td>-0.359163</td>\n",
       "      <td>0.263899</td>\n",
       "      <td>0.283403</td>\n",
       "      <td>0.185829</td>\n",
       "      <td>0.195995</td>\n",
       "      <td>...</td>\n",
       "      <td>-0.353670</td>\n",
       "      <td>0.287560</td>\n",
       "      <td>0.262824</td>\n",
       "      <td>0.169689</td>\n",
       "      <td>0.170315</td>\n",
       "      <td>0.270060</td>\n",
       "      <td>0.288574</td>\n",
       "      <td>-0.334296</td>\n",
       "      <td>0.248330</td>\n",
       "      <td>1</td>\n",
       "    </tr>\n",
       "    <tr>\n",
       "      <th>2</th>\n",
       "      <td>0.323059</td>\n",
       "      <td>0.200238</td>\n",
       "      <td>0.199566</td>\n",
       "      <td>0.288144</td>\n",
       "      <td>0.347120</td>\n",
       "      <td>-0.392760</td>\n",
       "      <td>0.259642</td>\n",
       "      <td>0.350821</td>\n",
       "      <td>0.223944</td>\n",
       "      <td>0.210791</td>\n",
       "      <td>...</td>\n",
       "      <td>-0.439905</td>\n",
       "      <td>0.268981</td>\n",
       "      <td>0.323004</td>\n",
       "      <td>0.195420</td>\n",
       "      <td>0.183496</td>\n",
       "      <td>0.256162</td>\n",
       "      <td>0.310311</td>\n",
       "      <td>-0.361256</td>\n",
       "      <td>0.211741</td>\n",
       "      <td>1</td>\n",
       "    </tr>\n",
       "  </tbody>\n",
       "</table>\n",
       "<p>3 rows × 29 columns</p>\n",
       "</div>"
      ],
      "text/plain": [
       "   Feature-1  Feature-2  Feature-3  Feature-4  Feature-5  Feature-6  \\\n",
       "0   0.325158   0.211388   0.162878   0.199771   0.163840  -0.267323   \n",
       "1   0.283810   0.185874   0.204715   0.292734   0.321123  -0.359163   \n",
       "2   0.323059   0.200238   0.199566   0.288144   0.347120  -0.392760   \n",
       "\n",
       "   Feature-7  Feature-8  Feature-9  Feature-10  ...  Feature-20  Feature-21  \\\n",
       "0   0.014312   0.324716   0.204250    0.174650  ...   -0.264708    0.041466   \n",
       "1   0.263899   0.283403   0.185829    0.195995  ...   -0.353670    0.287560   \n",
       "2   0.259642   0.350821   0.223944    0.210791  ...   -0.439905    0.268981   \n",
       "\n",
       "   Feature-22  Feature-23  Feature-24  Feature-25  Feature-26  Feature-27  \\\n",
       "0    0.315360    0.201311    0.161962    0.191630    0.159782   -0.262815   \n",
       "1    0.262824    0.169689    0.170315    0.270060    0.288574   -0.334296   \n",
       "2    0.323004    0.195420    0.183496    0.256162    0.310311   -0.361256   \n",
       "\n",
       "   Feature-28  label  \n",
       "0    0.039018      0  \n",
       "1    0.248330      1  \n",
       "2    0.211741      1  \n",
       "\n",
       "[3 rows x 29 columns]"
      ]
     },
     "execution_count": 4,
     "metadata": {},
     "output_type": "execute_result"
    }
   ],
   "source": [
    "df_train = pd.read_csv('Data/train_data.csv')\n",
    "\n",
    "if VERBOSE:\n",
    "    logger.info(f'Training data were loaded')\n",
    "    logger.info(f'Number of instances:  {df_train.shape[0]}')\n",
    "    logger.info(f'Number of features:   {df_train.shape[1]}')\n",
    "\n",
    "df_train.head( 3 )"
   ]
  },
  {
   "cell_type": "markdown",
   "metadata": {},
   "source": [
    "## Testing data"
   ]
  },
  {
   "cell_type": "code",
   "execution_count": 5,
   "metadata": {},
   "outputs": [
    {
     "name": "stderr",
     "output_type": "stream",
     "text": [
      "[INFO] Testing data were loaded\n",
      "[INFO] Number of instances:  9168\n",
      "[INFO] Number of features:   29\n"
     ]
    },
    {
     "data": {
      "text/html": [
       "<div>\n",
       "<style scoped>\n",
       "    .dataframe tbody tr th:only-of-type {\n",
       "        vertical-align: middle;\n",
       "    }\n",
       "\n",
       "    .dataframe tbody tr th {\n",
       "        vertical-align: top;\n",
       "    }\n",
       "\n",
       "    .dataframe thead th {\n",
       "        text-align: right;\n",
       "    }\n",
       "</style>\n",
       "<table border=\"1\" class=\"dataframe\">\n",
       "  <thead>\n",
       "    <tr style=\"text-align: right;\">\n",
       "      <th></th>\n",
       "      <th>Feature-1</th>\n",
       "      <th>Feature-2</th>\n",
       "      <th>Feature-3</th>\n",
       "      <th>Feature-4</th>\n",
       "      <th>Feature-5</th>\n",
       "      <th>Feature-6</th>\n",
       "      <th>Feature-7</th>\n",
       "      <th>Feature-8</th>\n",
       "      <th>Feature-9</th>\n",
       "      <th>Feature-10</th>\n",
       "      <th>...</th>\n",
       "      <th>Feature-20</th>\n",
       "      <th>Feature-21</th>\n",
       "      <th>Feature-22</th>\n",
       "      <th>Feature-23</th>\n",
       "      <th>Feature-24</th>\n",
       "      <th>Feature-25</th>\n",
       "      <th>Feature-26</th>\n",
       "      <th>Feature-27</th>\n",
       "      <th>Feature-28</th>\n",
       "      <th>label</th>\n",
       "    </tr>\n",
       "  </thead>\n",
       "  <tbody>\n",
       "    <tr>\n",
       "      <th>0</th>\n",
       "      <td>0.421100</td>\n",
       "      <td>0.311280</td>\n",
       "      <td>0.310160</td>\n",
       "      <td>0.353980</td>\n",
       "      <td>0.105571</td>\n",
       "      <td>-0.175377</td>\n",
       "      <td>0.091689</td>\n",
       "      <td>0.420820</td>\n",
       "      <td>0.306320</td>\n",
       "      <td>0.310420</td>\n",
       "      <td>...</td>\n",
       "      <td>-0.193568</td>\n",
       "      <td>0.095023</td>\n",
       "      <td>0.388280</td>\n",
       "      <td>0.273980</td>\n",
       "      <td>0.285980</td>\n",
       "      <td>0.330560</td>\n",
       "      <td>0.105511</td>\n",
       "      <td>-0.177666</td>\n",
       "      <td>0.116607</td>\n",
       "      <td>0</td>\n",
       "    </tr>\n",
       "    <tr>\n",
       "      <th>1</th>\n",
       "      <td>0.423193</td>\n",
       "      <td>0.290619</td>\n",
       "      <td>0.254927</td>\n",
       "      <td>0.281671</td>\n",
       "      <td>0.137560</td>\n",
       "      <td>-0.244459</td>\n",
       "      <td>0.019792</td>\n",
       "      <td>0.431956</td>\n",
       "      <td>0.301435</td>\n",
       "      <td>0.257873</td>\n",
       "      <td>...</td>\n",
       "      <td>-0.239738</td>\n",
       "      <td>0.043115</td>\n",
       "      <td>0.379723</td>\n",
       "      <td>0.252394</td>\n",
       "      <td>0.238974</td>\n",
       "      <td>0.265378</td>\n",
       "      <td>0.135794</td>\n",
       "      <td>-0.245699</td>\n",
       "      <td>0.070134</td>\n",
       "      <td>1</td>\n",
       "    </tr>\n",
       "    <tr>\n",
       "      <th>2</th>\n",
       "      <td>0.319944</td>\n",
       "      <td>0.240518</td>\n",
       "      <td>0.192145</td>\n",
       "      <td>0.214765</td>\n",
       "      <td>0.104318</td>\n",
       "      <td>-0.246053</td>\n",
       "      <td>-0.044005</td>\n",
       "      <td>0.343052</td>\n",
       "      <td>0.246591</td>\n",
       "      <td>0.211662</td>\n",
       "      <td>...</td>\n",
       "      <td>-0.236559</td>\n",
       "      <td>0.004437</td>\n",
       "      <td>0.333574</td>\n",
       "      <td>0.236871</td>\n",
       "      <td>0.211484</td>\n",
       "      <td>0.236254</td>\n",
       "      <td>0.110759</td>\n",
       "      <td>-0.240793</td>\n",
       "      <td>0.024197</td>\n",
       "      <td>0</td>\n",
       "    </tr>\n",
       "  </tbody>\n",
       "</table>\n",
       "<p>3 rows × 29 columns</p>\n",
       "</div>"
      ],
      "text/plain": [
       "   Feature-1  Feature-2  Feature-3  Feature-4  Feature-5  Feature-6  \\\n",
       "0   0.421100   0.311280   0.310160   0.353980   0.105571  -0.175377   \n",
       "1   0.423193   0.290619   0.254927   0.281671   0.137560  -0.244459   \n",
       "2   0.319944   0.240518   0.192145   0.214765   0.104318  -0.246053   \n",
       "\n",
       "   Feature-7  Feature-8  Feature-9  Feature-10  ...  Feature-20  Feature-21  \\\n",
       "0   0.091689   0.420820   0.306320    0.310420  ...   -0.193568    0.095023   \n",
       "1   0.019792   0.431956   0.301435    0.257873  ...   -0.239738    0.043115   \n",
       "2  -0.044005   0.343052   0.246591    0.211662  ...   -0.236559    0.004437   \n",
       "\n",
       "   Feature-22  Feature-23  Feature-24  Feature-25  Feature-26  Feature-27  \\\n",
       "0    0.388280    0.273980    0.285980    0.330560    0.105511   -0.177666   \n",
       "1    0.379723    0.252394    0.238974    0.265378    0.135794   -0.245699   \n",
       "2    0.333574    0.236871    0.211484    0.236254    0.110759   -0.240793   \n",
       "\n",
       "   Feature-28  label  \n",
       "0    0.116607      0  \n",
       "1    0.070134      1  \n",
       "2    0.024197      0  \n",
       "\n",
       "[3 rows x 29 columns]"
      ]
     },
     "execution_count": 5,
     "metadata": {},
     "output_type": "execute_result"
    }
   ],
   "source": [
    "df_test = pd.read_csv('Data/test_data.csv')\n",
    "\n",
    "if VERBOSE:\n",
    "    logger.info(f'Testing data were loaded')\n",
    "    logger.info(f'Number of instances:  {df_test.shape[0]}')\n",
    "    logger.info(f'Number of features:   {df_test.shape[1]}')\n",
    "\n",
    "df_test.head( 3 )"
   ]
  },
  {
   "cell_type": "markdown",
   "metadata": {},
   "source": [
    "## Training/Testing sets"
   ]
  },
  {
   "cell_type": "code",
   "execution_count": 6,
   "metadata": {},
   "outputs": [],
   "source": [
    "# Training/Validation data\n",
    "trainX = df_train.iloc[:, :-1]\n",
    "trainY = df_train.iloc[:,  -1]\n",
    "trainX, validX, trainY, validY = train_test_split(trainX, trainY, test_size = 0.2, random_state = seed)\n",
    "\n",
    "# # Convert dataset to special XGBoost optimised data structure\n",
    "# dtrain = xgboost.DMatrix(trainX, label = trainY)\n",
    "# dvalid = xgboost.DMatrix(validX, label = validY)\n",
    "\n",
    "\n",
    "# Testing data\n",
    "testX  = df_test.iloc[:, :-1]\n",
    "testY  = df_test.iloc[:,  -1]"
   ]
  },
  {
   "cell_type": "markdown",
   "metadata": {},
   "source": [
    "# Hyperparameter optimization"
   ]
  },
  {
   "cell_type": "code",
   "execution_count": 7,
   "metadata": {},
   "outputs": [
    {
     "name": "stderr",
     "output_type": "stream",
     "text": [
      "2023/03/23 09:29:38 INFO mlflow.tracking.fluent: Experiment with name 'NVCR-Experiments' does not exist. Creating a new experiment.\n",
      "[INFO] MLFlow server is connected\n"
     ]
    }
   ],
   "source": [
    "# Initiate mlflow server\n",
    "# Command: mlflow server --backend-store-uri sqlite:///mlflow.db --default-artifact-root ./artifacts --host 127.0.0.1 --port 5000\n",
    "# \n",
    "import mlflow\n",
    "from   mlflow.models.signature import infer_signature\n",
    "\n",
    "mlflow.set_tracking_uri(\"http://127.0.0.1:1983/\")\n",
    "mlflow.set_experiment(\"NVCR-Experiments\")\n",
    "\n",
    "if VERBOSE:\n",
    "    logger.info('MLFlow server is connected')"
   ]
  },
  {
   "cell_type": "code",
   "execution_count": 8,
   "metadata": {},
   "outputs": [],
   "source": [
    "class Parameter_Evaluation():\n",
    "    def __init__(self, trainX, trainY, validX, validY, VERBOSE = True):\n",
    "        # Data\n",
    "        self.trainX = trainX\n",
    "        self.trainY = trainY\n",
    "        self.validX = validX\n",
    "        self.validY = validY\n",
    "        # \n",
    "        self.VERBOSE = VERBOSE\n",
    "        # Number of iterations\n",
    "        self.Iter = 1\n",
    "        # Best score\n",
    "        self.best_score = 0\n",
    "        \n",
    "    def select_model(self, model):\n",
    "        self.model = model\n",
    "    \n",
    "    def get_performance_evaluation(self, y, pred):\n",
    "        Accuracy  = 100.0 * metrics.accuracy_score(y, pred)\n",
    "        try:\n",
    "            AUC   = metrics.roc_auc_score(y, pred)\n",
    "        except:\n",
    "            AUC   = 0.0\n",
    "        Recall    = metrics.recall_score(y, pred)\n",
    "        Precision = metrics.precision_score(y, pred)     \n",
    "\n",
    "        # Calculate Confusion Matrix (CM)\n",
    "        CM = metrics.confusion_matrix(y, pred)\n",
    "        GM = math.sqrt( np.diag( CM ).prod() ) / math.sqrt( CM[0, :].sum() * CM[1, :].sum() )\n",
    "            \n",
    "        return Accuracy, AUC, Precision, Recall, GM, CM\n",
    "    \n",
    "    def evaluate_params(self, params):\n",
    "        \n",
    "        tag     = {\"Simulation\" : \"sample-\" + str(self.Iter), \"model\": \"XGBoost\"}\n",
    "        runname = \"XGBoost-test-run-\" + str(self.Iter)\n",
    "\n",
    "        with mlflow.start_run(run_name = runname) as run:\n",
    "            # Tags to help in tracking\n",
    "            mlflow.set_tags(tag)\n",
    "            \n",
    "            # Log params/hyperparameters used in experiement\n",
    "            mlflow.log_params(params)\n",
    "            \n",
    "    \n",
    "            # Setup model\n",
    "            #\n",
    "            model =  self.model.set_params( **params )\n",
    "            \n",
    "            # Train model\n",
    "            #\n",
    "            model.fit(self.trainX, self.trainY, \n",
    "                      eval_metric = 'auc', \n",
    "                      eval_set = [ (self.trainX, self.trainY), (self.validX, self.validY) ],\n",
    "                      early_stopping_rounds = early_stopping_rounds,\n",
    "                      verbose = 100);\n",
    "\n",
    "            \n",
    "            # Evaluation on Training set\n",
    "            pred = model.predict( self.trainX )        \n",
    "            Accuracy, AUC, Precision, Recall, GM, CM = self.get_performance_evaluation(self.trainY.values, pred)\n",
    "            # Log metrics to MLflow\n",
    "            mlflow.log_metric(\"train_Accuracy\", Accuracy)\n",
    "            mlflow.log_metric(\"train_AUC\", AUC)\n",
    "            mlflow.log_metric(\"train_Recall\", Recall)\n",
    "            mlflow.log_metric(\"train_Precision\", Precision)\n",
    "            mlflow.log_metric(\"train_GM\", GM)\n",
    "            \n",
    "            # Confusion matrix (Training)\n",
    "            disp = ConfusionMatrixDisplay(confusion_matrix=CM, display_labels=model.classes_)\n",
    "            ax = plt.figure(figsize=(4,4)).gca()\n",
    "            fig = disp.plot(ax=ax,cmap = 'Blues', colorbar=False);\n",
    "            plt.title('Confusion Matrix - Train')\n",
    "            fig.figure_.savefig('Figures/CM_train.png', dpi=100)\n",
    "            plt.show()\n",
    "            \n",
    "            # PR-curve (Training)\n",
    "            ax = plt.figure(figsize=(4,3)).gca()\n",
    "            display = PrecisionRecallDisplay.from_estimator(model, self.trainX, self.trainY, ax=ax)\n",
    "            display.ax_.set_title(\"2-class Precision-Recall curve\");\n",
    "            display.figure_.savefig('Figures/PR-curve_train.png', dpi=100)\n",
    "            plt.show()\n",
    "            \n",
    "            \n",
    "            # Evaluation on Validation set\n",
    "            pred = model.predict( self.validX )        \n",
    "            Accuracy, AUC, Precision, Recall, GM, CM = self.get_performance_evaluation(self.validY.values, pred)\n",
    "            # Log metrics to MLflow\n",
    "            mlflow.log_metric(\"valid_Accuracy\", Accuracy)\n",
    "            mlflow.log_metric(\"valid_AUC\", AUC)\n",
    "            mlflow.log_metric(\"valid_Recall\", Recall)\n",
    "            mlflow.log_metric(\"valid_Precision\", Precision)\n",
    "            mlflow.log_metric(\"valid_GM\", GM)\n",
    "            \n",
    "            # Confusion matrix (Testing)\n",
    "            disp = ConfusionMatrixDisplay(confusion_matrix=CM, display_labels=model.classes_)\n",
    "            ax = plt.figure(figsize=(4, 4)).gca()\n",
    "            fig = disp.plot(ax=ax,cmap = 'Blues', colorbar=False);\n",
    "            plt.title('Confusion Matrix - Test')\n",
    "            fig.figure_.savefig('Figures/CM_test.png', dpi=100)\n",
    "            plt.show()\n",
    "            \n",
    "            # PR-curve (Testing)\n",
    "            ax = plt.figure(figsize=(4,3)).gca()\n",
    "            display = PrecisionRecallDisplay.from_estimator(model, self.validX, self.validY, ax=ax)\n",
    "            display.ax_.set_title(\"2-class Precision-Recall curve\");\n",
    "            display.figure_.savefig('Figures/PR-curve_test.png', dpi=100)\n",
    "            plt.show()\n",
    "            \n",
    "            \n",
    "            \n",
    "            # Export results\n",
    "            if (AUC > self.best_score): self.best_score = AUC\n",
    "            if self.VERBOSE:\n",
    "                logger.info( \"Iteration {:3.0f} with Accuracy = {:6.3f}% AUC = {:6.3f} GM = {:6.3f}\".format(self.Iter, Accuracy, AUC, GM) )\n",
    "            \n",
    "            \n",
    "            # Include model signature\n",
    "            signature = infer_signature(self.validX, pred)\n",
    "            \n",
    "            # Log model created\n",
    "            mlflow.sklearn.log_model(model, artifact_path = \"models\", signature = signature) \n",
    "\n",
    "            mlflow.log_artifacts(\"Data\", artifact_path=\"Data\")\n",
    "            mlflow.log_artifacts(\"Figures\", artifact_path=\"Figures\")\n",
    "            \n",
    "        mlflow.end_run()\n",
    "          \n",
    "        # Update Iteration counter\n",
    "        self.Iter += 1\n",
    "        \n",
    "        \n",
    "        return( -AUC )"
   ]
  },
  {
   "cell_type": "code",
   "execution_count": null,
   "metadata": {},
   "outputs": [],
   "source": [
    "            mlflow.log_artifacts(\"Figures\", artifact_path=\"Figures\")\n"
   ]
  },
  {
   "cell_type": "code",
   "execution_count": 9,
   "metadata": {},
   "outputs": [],
   "source": [
    "evaluator = Parameter_Evaluation(trainX, trainY, validX, validY)"
   ]
  },
  {
   "cell_type": "markdown",
   "metadata": {},
   "source": [
    "# Prediction model"
   ]
  },
  {
   "cell_type": "code",
   "execution_count": 10,
   "metadata": {},
   "outputs": [
    {
     "name": "stderr",
     "output_type": "stream",
     "text": [
      "[INFO] Model was setup\n"
     ]
    },
    {
     "data": {
      "text/html": [
       "<style>#sk-container-id-1 {color: black;background-color: white;}#sk-container-id-1 pre{padding: 0;}#sk-container-id-1 div.sk-toggleable {background-color: white;}#sk-container-id-1 label.sk-toggleable__label {cursor: pointer;display: block;width: 100%;margin-bottom: 0;padding: 0.3em;box-sizing: border-box;text-align: center;}#sk-container-id-1 label.sk-toggleable__label-arrow:before {content: \"▸\";float: left;margin-right: 0.25em;color: #696969;}#sk-container-id-1 label.sk-toggleable__label-arrow:hover:before {color: black;}#sk-container-id-1 div.sk-estimator:hover label.sk-toggleable__label-arrow:before {color: black;}#sk-container-id-1 div.sk-toggleable__content {max-height: 0;max-width: 0;overflow: hidden;text-align: left;background-color: #f0f8ff;}#sk-container-id-1 div.sk-toggleable__content pre {margin: 0.2em;color: black;border-radius: 0.25em;background-color: #f0f8ff;}#sk-container-id-1 input.sk-toggleable__control:checked~div.sk-toggleable__content {max-height: 200px;max-width: 100%;overflow: auto;}#sk-container-id-1 input.sk-toggleable__control:checked~label.sk-toggleable__label-arrow:before {content: \"▾\";}#sk-container-id-1 div.sk-estimator input.sk-toggleable__control:checked~label.sk-toggleable__label {background-color: #d4ebff;}#sk-container-id-1 div.sk-label input.sk-toggleable__control:checked~label.sk-toggleable__label {background-color: #d4ebff;}#sk-container-id-1 input.sk-hidden--visually {border: 0;clip: rect(1px 1px 1px 1px);clip: rect(1px, 1px, 1px, 1px);height: 1px;margin: -1px;overflow: hidden;padding: 0;position: absolute;width: 1px;}#sk-container-id-1 div.sk-estimator {font-family: monospace;background-color: #f0f8ff;border: 1px dotted black;border-radius: 0.25em;box-sizing: border-box;margin-bottom: 0.5em;}#sk-container-id-1 div.sk-estimator:hover {background-color: #d4ebff;}#sk-container-id-1 div.sk-parallel-item::after {content: \"\";width: 100%;border-bottom: 1px solid gray;flex-grow: 1;}#sk-container-id-1 div.sk-label:hover label.sk-toggleable__label {background-color: #d4ebff;}#sk-container-id-1 div.sk-serial::before {content: \"\";position: absolute;border-left: 1px solid gray;box-sizing: border-box;top: 0;bottom: 0;left: 50%;z-index: 0;}#sk-container-id-1 div.sk-serial {display: flex;flex-direction: column;align-items: center;background-color: white;padding-right: 0.2em;padding-left: 0.2em;position: relative;}#sk-container-id-1 div.sk-item {position: relative;z-index: 1;}#sk-container-id-1 div.sk-parallel {display: flex;align-items: stretch;justify-content: center;background-color: white;position: relative;}#sk-container-id-1 div.sk-item::before, #sk-container-id-1 div.sk-parallel-item::before {content: \"\";position: absolute;border-left: 1px solid gray;box-sizing: border-box;top: 0;bottom: 0;left: 50%;z-index: -1;}#sk-container-id-1 div.sk-parallel-item {display: flex;flex-direction: column;z-index: 1;position: relative;background-color: white;}#sk-container-id-1 div.sk-parallel-item:first-child::after {align-self: flex-end;width: 50%;}#sk-container-id-1 div.sk-parallel-item:last-child::after {align-self: flex-start;width: 50%;}#sk-container-id-1 div.sk-parallel-item:only-child::after {width: 0;}#sk-container-id-1 div.sk-dashed-wrapped {border: 1px dashed gray;margin: 0 0.4em 0.5em 0.4em;box-sizing: border-box;padding-bottom: 0.4em;background-color: white;}#sk-container-id-1 div.sk-label label {font-family: monospace;font-weight: bold;display: inline-block;line-height: 1.2em;}#sk-container-id-1 div.sk-label-container {text-align: center;}#sk-container-id-1 div.sk-container {/* jupyter's `normalize.less` sets `[hidden] { display: none; }` but bootstrap.min.css set `[hidden] { display: none !important; }` so we also need the `!important` here to be able to override the default hidden behavior on the sphinx rendered scikit-learn.org. See: https://github.com/scikit-learn/scikit-learn/issues/21755 */display: inline-block !important;position: relative;}#sk-container-id-1 div.sk-text-repr-fallback {display: none;}</style><div id=\"sk-container-id-1\" class=\"sk-top-container\"><div class=\"sk-text-repr-fallback\"><pre>XGBClassifier(base_score=None, booster=None, callbacks=None,\n",
       "              colsample_bylevel=None, colsample_bynode=None,\n",
       "              colsample_bytree=None, early_stopping_rounds=None,\n",
       "              enable_categorical=False, eval_metric=None, feature_types=None,\n",
       "              gamma=1.5, gpu_id=None, grow_policy=None, importance_type=None,\n",
       "              interaction_constraints=None, learning_rate=None, max_bin=None,\n",
       "              max_cat_threshold=None, max_cat_to_onehot=None,\n",
       "              max_delta_step=None, max_depth=None, max_leaves=None,\n",
       "              min_child_weight=None, missing=nan, monotone_constraints=None,\n",
       "              n_estimators=1000, n_jobs=-1, num_parallel_tree=None,\n",
       "              predictor=None, random_state=None, ...)</pre><b>In a Jupyter environment, please rerun this cell to show the HTML representation or trust the notebook. <br />On GitHub, the HTML representation is unable to render, please try loading this page with nbviewer.org.</b></div><div class=\"sk-container\" hidden><div class=\"sk-item\"><div class=\"sk-estimator sk-toggleable\"><input class=\"sk-toggleable__control sk-hidden--visually\" id=\"sk-estimator-id-1\" type=\"checkbox\" checked><label for=\"sk-estimator-id-1\" class=\"sk-toggleable__label sk-toggleable__label-arrow\">XGBClassifier</label><div class=\"sk-toggleable__content\"><pre>XGBClassifier(base_score=None, booster=None, callbacks=None,\n",
       "              colsample_bylevel=None, colsample_bynode=None,\n",
       "              colsample_bytree=None, early_stopping_rounds=None,\n",
       "              enable_categorical=False, eval_metric=None, feature_types=None,\n",
       "              gamma=1.5, gpu_id=None, grow_policy=None, importance_type=None,\n",
       "              interaction_constraints=None, learning_rate=None, max_bin=None,\n",
       "              max_cat_threshold=None, max_cat_to_onehot=None,\n",
       "              max_delta_step=None, max_depth=None, max_leaves=None,\n",
       "              min_child_weight=None, missing=nan, monotone_constraints=None,\n",
       "              n_estimators=1000, n_jobs=-1, num_parallel_tree=None,\n",
       "              predictor=None, random_state=None, ...)</pre></div></div></div></div></div>"
      ],
      "text/plain": [
       "XGBClassifier(base_score=None, booster=None, callbacks=None,\n",
       "              colsample_bylevel=None, colsample_bynode=None,\n",
       "              colsample_bytree=None, early_stopping_rounds=None,\n",
       "              enable_categorical=False, eval_metric=None, feature_types=None,\n",
       "              gamma=1.5, gpu_id=None, grow_policy=None, importance_type=None,\n",
       "              interaction_constraints=None, learning_rate=None, max_bin=None,\n",
       "              max_cat_threshold=None, max_cat_to_onehot=None,\n",
       "              max_delta_step=None, max_depth=None, max_leaves=None,\n",
       "              min_child_weight=None, missing=nan, monotone_constraints=None,\n",
       "              n_estimators=1000, n_jobs=-1, num_parallel_tree=None,\n",
       "              predictor=None, random_state=None, ...)"
      ]
     },
     "execution_count": 10,
     "metadata": {},
     "output_type": "execute_result"
    }
   ],
   "source": [
    "# Setup model\n",
    "#\n",
    "model = xgboost.XGBClassifier(n_estimators        = n_estimators, \n",
    "                              n_jobs              = -1, \n",
    "                              objective           = 'binary:logistic', \n",
    "                              validate_parameters = True, \n",
    "                              verbosity           = 1,\n",
    "                              tree_method         = 'hist',\n",
    "                              gamma               = 1.5,\n",
    "                              reg_alpha           = 20,\n",
    "                              reg_lambda          = 0.7) \n",
    "\n",
    "if VERBOSE:\n",
    "    logger.info('Model was setup')\n",
    "model"
   ]
  },
  {
   "cell_type": "markdown",
   "metadata": {},
   "source": [
    "## Parameters"
   ]
  },
  {
   "cell_type": "code",
   "execution_count": 11,
   "metadata": {},
   "outputs": [],
   "source": [
    "# XGBoost\n",
    "search_space = [ \n",
    "                 skopt.space.Categorical([0.1, 0.05, 0.01, 0.05], name='learning_rate'),\n",
    "                 skopt.space.Integer(3, 15,   name='max_depth'),\n",
    "                 #\n",
    "                 skopt.space.Integer(2, 10,   name='min_child_weight'),\n",
    "                 skopt.space.Integer(2, 5,    name='max_leaves'),\n",
    "                ]"
   ]
  },
  {
   "cell_type": "code",
   "execution_count": 12,
   "metadata": {},
   "outputs": [],
   "source": [
    "HPO_params = {\n",
    "              'n_calls':         n_calls,\n",
    "              'n_random_starts': n_random_starts,\n",
    "              'base_estimator':  'ET',\n",
    "              'acq_func':        'EI',\n",
    "             }"
   ]
  },
  {
   "cell_type": "markdown",
   "metadata": {},
   "source": [
    "## Hyperparameter optimization process"
   ]
  },
  {
   "cell_type": "code",
   "execution_count": 13,
   "metadata": {},
   "outputs": [],
   "source": [
    "evaluator.select_model( model )"
   ]
  },
  {
   "cell_type": "code",
   "execution_count": 14,
   "metadata": {},
   "outputs": [],
   "source": [
    "@skopt.utils.use_named_args( search_space )\n",
    "def objective( **params ):\n",
    "    return  evaluator.evaluate_params( params )"
   ]
  },
  {
   "cell_type": "code",
   "execution_count": 15,
   "metadata": {
    "tags": []
   },
   "outputs": [
    {
     "name": "stdout",
     "output_type": "stream",
     "text": [
      "[0]\tvalidation_0-auc:0.65021\tvalidation_1-auc:0.64839\n",
      "[100]\tvalidation_0-auc:0.75451\tvalidation_1-auc:0.75396\n",
      "[200]\tvalidation_0-auc:0.77372\tvalidation_1-auc:0.77189\n",
      "[300]\tvalidation_0-auc:0.78820\tvalidation_1-auc:0.78504\n",
      "[400]\tvalidation_0-auc:0.79862\tvalidation_1-auc:0.79406\n",
      "[500]\tvalidation_0-auc:0.80793\tvalidation_1-auc:0.80213\n",
      "[600]\tvalidation_0-auc:0.81440\tvalidation_1-auc:0.80750\n",
      "[700]\tvalidation_0-auc:0.82047\tvalidation_1-auc:0.81286\n",
      "[800]\tvalidation_0-auc:0.82536\tvalidation_1-auc:0.81700\n",
      "[900]\tvalidation_0-auc:0.82963\tvalidation_1-auc:0.82066\n",
      "[999]\tvalidation_0-auc:0.83346\tvalidation_1-auc:0.82373\n"
     ]
    },
    {
     "data": {
      "image/png": "[encoded data removed]",
      "text/plain": [
       "<Figure size 400x400 with 1 Axes>"
      ]
     },
     "metadata": {},
     "output_type": "display_data"
    },
    {
     "data": {
      "image/png": "[encoded data removed]",
      "text/plain": [
       "<Figure size 400x300 with 1 Axes>"
      ]
     },
     "metadata": {},
     "output_type": "display_data"
    },
    {
     "data": {
      "image/png": "[encoded data removed]",
      "text/plain": [
       "<Figure size 400x400 with 1 Axes>"
      ]
     },
     "metadata": {},
     "output_type": "display_data"
    },
    {
     "data": {
      "image/png": "[encoded data removed]",
      "text/plain": [
       "<Figure size 400x300 with 1 Axes>"
      ]
     },
     "metadata": {},
     "output_type": "display_data"
    },
    {
     "name": "stderr",
     "output_type": "stream",
     "text": [
      "[INFO] Iteration   1 with Accuracy = 79.044% AUC =  0.684 GM =  0.630\n",
      "2023/03/23 09:30:27 WARNING mlflow.utils.environment: Encountered an unexpected error while inferring pip requirements (model URI: C:\\Users\\poseidon\\AppData\\Local\\Temp\\tmpf94t7gay\\model\\model.pkl, flavor: sklearn), fall back to return ['scikit-learn==1.2.0', 'cloudpickle==2.2.1']. Set logging level to DEBUG to see the full traceback.\n"
     ]
    },
    {
     "ename": "InvalidParameterError",
     "evalue": "The 'criterion' parameter of ExtraTreesRegressor must be a str among {'poisson', 'absolute_error', 'squared_error', 'friedman_mse'}. Got 'mse' instead.",
     "output_type": "error",
     "traceback": [
      "\u001b[1;31m---------------------------------------------------------------------------\u001b[0m",
      "\u001b[1;31mInvalidParameterError\u001b[0m                     Traceback (most recent call last)",
      "File \u001b[1;32m<timed exec>:1\u001b[0m\n",
      "File \u001b[1;32mc:\\Users\\poseidon\\anaconda\\envs\\tensorflow\\lib\\site-packages\\skopt\\optimizer\\forest.py:186\u001b[0m, in \u001b[0;36mforest_minimize\u001b[1;34m(func, dimensions, base_estimator, n_calls, n_random_starts, n_initial_points, acq_func, initial_point_generator, x0, y0, random_state, verbose, callback, n_points, xi, kappa, n_jobs, model_queue_size)\u001b[0m\n\u001b[0;32m     10\u001b[0m \u001b[39mdef\u001b[39;00m \u001b[39mforest_minimize\u001b[39m(func, dimensions, base_estimator\u001b[39m=\u001b[39m\u001b[39m\"\u001b[39m\u001b[39mET\u001b[39m\u001b[39m\"\u001b[39m, n_calls\u001b[39m=\u001b[39m\u001b[39m100\u001b[39m,\n\u001b[0;32m     11\u001b[0m                     n_random_starts\u001b[39m=\u001b[39m\u001b[39mNone\u001b[39;00m, n_initial_points\u001b[39m=\u001b[39m\u001b[39m10\u001b[39m, acq_func\u001b[39m=\u001b[39m\u001b[39m\"\u001b[39m\u001b[39mEI\u001b[39m\u001b[39m\"\u001b[39m,\n\u001b[0;32m     12\u001b[0m                     initial_point_generator\u001b[39m=\u001b[39m\u001b[39m\"\u001b[39m\u001b[39mrandom\u001b[39m\u001b[39m\"\u001b[39m,\n\u001b[0;32m     13\u001b[0m                     x0\u001b[39m=\u001b[39m\u001b[39mNone\u001b[39;00m, y0\u001b[39m=\u001b[39m\u001b[39mNone\u001b[39;00m, random_state\u001b[39m=\u001b[39m\u001b[39mNone\u001b[39;00m, verbose\u001b[39m=\u001b[39m\u001b[39mFalse\u001b[39;00m,\n\u001b[0;32m     14\u001b[0m                     callback\u001b[39m=\u001b[39m\u001b[39mNone\u001b[39;00m, n_points\u001b[39m=\u001b[39m\u001b[39m10000\u001b[39m, xi\u001b[39m=\u001b[39m\u001b[39m0.01\u001b[39m, kappa\u001b[39m=\u001b[39m\u001b[39m1.96\u001b[39m,\n\u001b[0;32m     15\u001b[0m                     n_jobs\u001b[39m=\u001b[39m\u001b[39m1\u001b[39m, model_queue_size\u001b[39m=\u001b[39m\u001b[39mNone\u001b[39;00m):\n\u001b[0;32m     16\u001b[0m     \u001b[39m\"\"\"Sequential optimisation using decision trees.\u001b[39;00m\n\u001b[0;32m     17\u001b[0m \n\u001b[0;32m     18\u001b[0m \u001b[39m    A tree based regression model is used to model the expensive to evaluate\u001b[39;00m\n\u001b[1;32m   (...)\u001b[0m\n\u001b[0;32m    184\u001b[0m \u001b[39m        :class:`skopt.dummy_minimize`, :class:`skopt.gbrt_minimize`\u001b[39;00m\n\u001b[0;32m    185\u001b[0m \u001b[39m    \"\"\"\u001b[39;00m\n\u001b[1;32m--> 186\u001b[0m     \u001b[39mreturn\u001b[39;00m base_minimize(func, dimensions, base_estimator,\n\u001b[0;32m    187\u001b[0m                          n_calls\u001b[39m=\u001b[39;49mn_calls, n_points\u001b[39m=\u001b[39;49mn_points,\n\u001b[0;32m    188\u001b[0m                          n_random_starts\u001b[39m=\u001b[39;49mn_random_starts,\n\u001b[0;32m    189\u001b[0m                          n_initial_points\u001b[39m=\u001b[39;49mn_initial_points,\n\u001b[0;32m    190\u001b[0m                          initial_point_generator\u001b[39m=\u001b[39;49minitial_point_generator,\n\u001b[0;32m    191\u001b[0m                          x0\u001b[39m=\u001b[39;49mx0, y0\u001b[39m=\u001b[39;49my0, random_state\u001b[39m=\u001b[39;49mrandom_state,\n\u001b[0;32m    192\u001b[0m                          n_jobs\u001b[39m=\u001b[39;49mn_jobs,\n\u001b[0;32m    193\u001b[0m                          acq_func\u001b[39m=\u001b[39;49macq_func,\n\u001b[0;32m    194\u001b[0m                          xi\u001b[39m=\u001b[39;49mxi, kappa\u001b[39m=\u001b[39;49mkappa, verbose\u001b[39m=\u001b[39;49mverbose,\n\u001b[0;32m    195\u001b[0m                          callback\u001b[39m=\u001b[39;49mcallback, acq_optimizer\u001b[39m=\u001b[39;49m\u001b[39m\"\u001b[39;49m\u001b[39msampling\u001b[39;49m\u001b[39m\"\u001b[39;49m,\n\u001b[0;32m    196\u001b[0m                          model_queue_size\u001b[39m=\u001b[39;49mmodel_queue_size)\n",
      "File \u001b[1;32mc:\\Users\\poseidon\\anaconda\\envs\\tensorflow\\lib\\site-packages\\skopt\\optimizer\\base.py:300\u001b[0m, in \u001b[0;36mbase_minimize\u001b[1;34m(func, dimensions, base_estimator, n_calls, n_random_starts, n_initial_points, initial_point_generator, acq_func, acq_optimizer, x0, y0, random_state, verbose, callback, n_points, n_restarts_optimizer, xi, kappa, n_jobs, model_queue_size)\u001b[0m\n\u001b[0;32m    298\u001b[0m next_x \u001b[39m=\u001b[39m optimizer\u001b[39m.\u001b[39mask()\n\u001b[0;32m    299\u001b[0m next_y \u001b[39m=\u001b[39m func(next_x)\n\u001b[1;32m--> 300\u001b[0m result \u001b[39m=\u001b[39m optimizer\u001b[39m.\u001b[39;49mtell(next_x, next_y)\n\u001b[0;32m    301\u001b[0m result\u001b[39m.\u001b[39mspecs \u001b[39m=\u001b[39m specs\n\u001b[0;32m    302\u001b[0m \u001b[39mif\u001b[39;00m eval_callbacks(callbacks, result):\n",
      "File \u001b[1;32mc:\\Users\\poseidon\\anaconda\\envs\\tensorflow\\lib\\site-packages\\skopt\\optimizer\\optimizer.py:493\u001b[0m, in \u001b[0;36mOptimizer.tell\u001b[1;34m(self, x, y, fit)\u001b[0m\n\u001b[0;32m    490\u001b[0m         y \u001b[39m=\u001b[39m \u001b[39mlist\u001b[39m(y)\n\u001b[0;32m    491\u001b[0m         y[\u001b[39m1\u001b[39m] \u001b[39m=\u001b[39m log(y[\u001b[39m1\u001b[39m])\n\u001b[1;32m--> 493\u001b[0m \u001b[39mreturn\u001b[39;00m \u001b[39mself\u001b[39;49m\u001b[39m.\u001b[39;49m_tell(x, y, fit\u001b[39m=\u001b[39;49mfit)\n",
      "File \u001b[1;32mc:\\Users\\poseidon\\anaconda\\envs\\tensorflow\\lib\\site-packages\\skopt\\optimizer\\optimizer.py:536\u001b[0m, in \u001b[0;36mOptimizer._tell\u001b[1;34m(self, x, y, fit)\u001b[0m\n\u001b[0;32m    534\u001b[0m \u001b[39mwith\u001b[39;00m warnings\u001b[39m.\u001b[39mcatch_warnings():\n\u001b[0;32m    535\u001b[0m     warnings\u001b[39m.\u001b[39msimplefilter(\u001b[39m\"\u001b[39m\u001b[39mignore\u001b[39m\u001b[39m\"\u001b[39m)\n\u001b[1;32m--> 536\u001b[0m     est\u001b[39m.\u001b[39;49mfit(\u001b[39mself\u001b[39;49m\u001b[39m.\u001b[39;49mspace\u001b[39m.\u001b[39;49mtransform(\u001b[39mself\u001b[39;49m\u001b[39m.\u001b[39;49mXi), \u001b[39mself\u001b[39;49m\u001b[39m.\u001b[39;49myi)\n\u001b[0;32m    538\u001b[0m \u001b[39mif\u001b[39;00m \u001b[39mhasattr\u001b[39m(\u001b[39mself\u001b[39m, \u001b[39m\"\u001b[39m\u001b[39mnext_xs_\u001b[39m\u001b[39m\"\u001b[39m) \u001b[39mand\u001b[39;00m \u001b[39mself\u001b[39m\u001b[39m.\u001b[39macq_func \u001b[39m==\u001b[39m \u001b[39m\"\u001b[39m\u001b[39mgp_hedge\u001b[39m\u001b[39m\"\u001b[39m:\n\u001b[0;32m    539\u001b[0m     \u001b[39mself\u001b[39m\u001b[39m.\u001b[39mgains_ \u001b[39m-\u001b[39m\u001b[39m=\u001b[39m est\u001b[39m.\u001b[39mpredict(np\u001b[39m.\u001b[39mvstack(\u001b[39mself\u001b[39m\u001b[39m.\u001b[39mnext_xs_))\n",
      "File \u001b[1;32mc:\\Users\\poseidon\\anaconda\\envs\\tensorflow\\lib\\site-packages\\sklearn\\ensemble\\_forest.py:341\u001b[0m, in \u001b[0;36mBaseForest.fit\u001b[1;34m(self, X, y, sample_weight)\u001b[0m\n\u001b[0;32m    314\u001b[0m \u001b[39mdef\u001b[39;00m \u001b[39mfit\u001b[39m(\u001b[39mself\u001b[39m, X, y, sample_weight\u001b[39m=\u001b[39m\u001b[39mNone\u001b[39;00m):\n\u001b[0;32m    315\u001b[0m     \u001b[39m\"\"\"\u001b[39;00m\n\u001b[0;32m    316\u001b[0m \u001b[39m    Build a forest of trees from the training set (X, y).\u001b[39;00m\n\u001b[0;32m    317\u001b[0m \n\u001b[1;32m   (...)\u001b[0m\n\u001b[0;32m    339\u001b[0m \u001b[39m        Fitted estimator.\u001b[39;00m\n\u001b[0;32m    340\u001b[0m \u001b[39m    \"\"\"\u001b[39;00m\n\u001b[1;32m--> 341\u001b[0m     \u001b[39mself\u001b[39;49m\u001b[39m.\u001b[39;49m_validate_params()\n\u001b[0;32m    343\u001b[0m     \u001b[39m# Validate or convert input data\u001b[39;00m\n\u001b[0;32m    344\u001b[0m     \u001b[39mif\u001b[39;00m issparse(y):\n",
      "File \u001b[1;32mc:\\Users\\poseidon\\anaconda\\envs\\tensorflow\\lib\\site-packages\\sklearn\\base.py:570\u001b[0m, in \u001b[0;36mBaseEstimator._validate_params\u001b[1;34m(self)\u001b[0m\n\u001b[0;32m    562\u001b[0m \u001b[39mdef\u001b[39;00m \u001b[39m_validate_params\u001b[39m(\u001b[39mself\u001b[39m):\n\u001b[0;32m    563\u001b[0m     \u001b[39m\"\"\"Validate types and values of constructor parameters\u001b[39;00m\n\u001b[0;32m    564\u001b[0m \n\u001b[0;32m    565\u001b[0m \u001b[39m    The expected type and values must be defined in the `_parameter_constraints`\u001b[39;00m\n\u001b[1;32m   (...)\u001b[0m\n\u001b[0;32m    568\u001b[0m \u001b[39m    accepted constraints.\u001b[39;00m\n\u001b[0;32m    569\u001b[0m \u001b[39m    \"\"\"\u001b[39;00m\n\u001b[1;32m--> 570\u001b[0m     validate_parameter_constraints(\n\u001b[0;32m    571\u001b[0m         \u001b[39mself\u001b[39;49m\u001b[39m.\u001b[39;49m_parameter_constraints,\n\u001b[0;32m    572\u001b[0m         \u001b[39mself\u001b[39;49m\u001b[39m.\u001b[39;49mget_params(deep\u001b[39m=\u001b[39;49m\u001b[39mFalse\u001b[39;49;00m),\n\u001b[0;32m    573\u001b[0m         caller_name\u001b[39m=\u001b[39;49m\u001b[39mself\u001b[39;49m\u001b[39m.\u001b[39;49m\u001b[39m__class__\u001b[39;49m\u001b[39m.\u001b[39;49m\u001b[39m__name__\u001b[39;49m,\n\u001b[0;32m    574\u001b[0m     )\n",
      "File \u001b[1;32mc:\\Users\\poseidon\\anaconda\\envs\\tensorflow\\lib\\site-packages\\sklearn\\utils\\_param_validation.py:97\u001b[0m, in \u001b[0;36mvalidate_parameter_constraints\u001b[1;34m(parameter_constraints, params, caller_name)\u001b[0m\n\u001b[0;32m     91\u001b[0m \u001b[39melse\u001b[39;00m:\n\u001b[0;32m     92\u001b[0m     constraints_str \u001b[39m=\u001b[39m (\n\u001b[0;32m     93\u001b[0m         \u001b[39mf\u001b[39m\u001b[39m\"\u001b[39m\u001b[39m{\u001b[39;00m\u001b[39m'\u001b[39m\u001b[39m, \u001b[39m\u001b[39m'\u001b[39m\u001b[39m.\u001b[39mjoin([\u001b[39mstr\u001b[39m(c) \u001b[39mfor\u001b[39;00m c \u001b[39min\u001b[39;00m constraints[:\u001b[39m-\u001b[39m\u001b[39m1\u001b[39m]])\u001b[39m}\u001b[39;00m\u001b[39m or\u001b[39m\u001b[39m\"\u001b[39m\n\u001b[0;32m     94\u001b[0m         \u001b[39mf\u001b[39m\u001b[39m\"\u001b[39m\u001b[39m \u001b[39m\u001b[39m{\u001b[39;00mconstraints[\u001b[39m-\u001b[39m\u001b[39m1\u001b[39m]\u001b[39m}\u001b[39;00m\u001b[39m\"\u001b[39m\n\u001b[0;32m     95\u001b[0m     )\n\u001b[1;32m---> 97\u001b[0m \u001b[39mraise\u001b[39;00m InvalidParameterError(\n\u001b[0;32m     98\u001b[0m     \u001b[39mf\u001b[39m\u001b[39m\"\u001b[39m\u001b[39mThe \u001b[39m\u001b[39m{\u001b[39;00mparam_name\u001b[39m!r}\u001b[39;00m\u001b[39m parameter of \u001b[39m\u001b[39m{\u001b[39;00mcaller_name\u001b[39m}\u001b[39;00m\u001b[39m must be\u001b[39m\u001b[39m\"\u001b[39m\n\u001b[0;32m     99\u001b[0m     \u001b[39mf\u001b[39m\u001b[39m\"\u001b[39m\u001b[39m \u001b[39m\u001b[39m{\u001b[39;00mconstraints_str\u001b[39m}\u001b[39;00m\u001b[39m. Got \u001b[39m\u001b[39m{\u001b[39;00mparam_val\u001b[39m!r}\u001b[39;00m\u001b[39m instead.\u001b[39m\u001b[39m\"\u001b[39m\n\u001b[0;32m    100\u001b[0m )\n",
      "\u001b[1;31mInvalidParameterError\u001b[0m: The 'criterion' parameter of ExtraTreesRegressor must be a str among {'poisson', 'absolute_error', 'squared_error', 'friedman_mse'}. Got 'mse' instead."
     ]
    }
   ],
   "source": [
    "%%time\n",
    "results = skopt.forest_minimize(objective, search_space, **HPO_params)"
   ]
  },
  {
   "cell_type": "markdown",
   "metadata": {},
   "source": [
    "## Get optimized hyperparameters"
   ]
  },
  {
   "cell_type": "code",
   "execution_count": null,
   "metadata": {},
   "outputs": [],
   "source": [
    "def to_named_params(results, search_space):\n",
    "    params       = results.x\n",
    "    param_dict   = {}\n",
    "    \n",
    "    params_list  =[(dimension.name, param) for dimension, param in zip(search_space, params)]\n",
    "    \n",
    "    for item in params_list:\n",
    "        param_dict[item[0]] = item[1]\n",
    "    \n",
    "    return( param_dict )"
   ]
  },
  {
   "cell_type": "code",
   "execution_count": null,
   "metadata": {},
   "outputs": [],
   "source": [
    "best_params = to_named_params(results, search_space)\n",
    "\n",
    "\n",
    "print('[INFO] Optimized hyperparameters\\n')\n",
    "for (parameter,value) in best_params.items():\n",
    "    if ( isinstance(value, float) ):\n",
    "        print(' >%25s: %.3f' % (parameter,value))\n",
    "    else:\n",
    "        print(' >%25s: %s' % (parameter,value))\n",
    "\n",
    "\n",
    "\n",
    "\n",
    "# Store optimized hyperparameters\n",
    "#\n",
    "def np_encoder(object):\n",
    "    if isinstance(object, np.generic):\n",
    "        return object.item()\n",
    "\n",
    "with open('checkpoint/Hyperparameters.json', 'w', encoding='utf-8') as f:\n",
    "    f.write( json.dumps( best_params, default = np_encoder ) )\n"
   ]
  },
  {
   "cell_type": "code",
   "execution_count": null,
   "metadata": {},
   "outputs": [],
   "source": []
  }
 ],
 "metadata": {
  "kernelspec": {
   "display_name": "tensorflow",
   "language": "python",
   "name": "python3"
  },
  "language_info": {
   "codemirror_mode": {
    "name": "ipython",
    "version": 3
   },
   "file_extension": ".py",
   "mimetype": "text/x-python",
   "name": "python",
   "nbconvert_exporter": "python",
   "pygments_lexer": "ipython3",
   "version": "3.8.16"
  },
  "toc": {
   "base_numbering": 1,
   "nav_menu": {},
   "number_sections": true,
   "sideBar": true,
   "skip_h1_title": false,
   "title_cell": "Table of Contents",
   "title_sidebar": "Contents",
   "toc_cell": false,
   "toc_position": {},
   "toc_section_display": true,
   "toc_window_display": true
  },
  "varInspector": {
   "cols": {
    "lenName": 16,
    "lenType": 16,
    "lenVar": 40
   },
   "kernels_config": {
    "python": {
     "delete_cmd_postfix": "",
     "delete_cmd_prefix": "del ",
     "library": "var_list.py",
     "varRefreshCmd": "print(var_dic_list())"
    },
    "r": {
     "delete_cmd_postfix": ") ",
     "delete_cmd_prefix": "rm(",
     "library": "var_list.r",
     "varRefreshCmd": "cat(var_dic_list()) "
    }
   },
   "types_to_exclude": [
    "module",
    "function",
    "builtin_function_or_method",
    "instance",
    "_Feature"
   ],
   "window_display": false
  }
 },
 "nbformat": 4,
 "nbformat_minor": 4
}
